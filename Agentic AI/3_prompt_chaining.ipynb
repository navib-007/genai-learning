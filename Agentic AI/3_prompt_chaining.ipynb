{
 "cells": [
  {
   "cell_type": "code",
   "execution_count": 1,
   "id": "c53567be",
   "metadata": {},
   "outputs": [],
   "source": [
    "from langgraph.graph import StateGraph, START, END\n",
    "from typing import TypedDict\n",
    "from langchain_openai import ChatOpenAI\n",
    "from dotenv import load_dotenv"
   ]
  },
  {
   "cell_type": "code",
   "execution_count": 2,
   "id": "96559b11",
   "metadata": {},
   "outputs": [],
   "source": [
    "load_dotenv()\n",
    "model= ChatOpenAI()"
   ]
  },
  {
   "cell_type": "code",
   "execution_count": 12,
   "id": "6e4fbffa",
   "metadata": {},
   "outputs": [],
   "source": [
    "class BlogState(TypedDict):\n",
    "    title: str\n",
    "    outline: str\n",
    "    content: str\n",
    "    evaluate: str"
   ]
  },
  {
   "cell_type": "code",
   "execution_count": 4,
   "id": "dfcfc5a5",
   "metadata": {},
   "outputs": [],
   "source": [
    "def outline_creation(state:BlogState) -> BlogState:\n",
    "    title = state['title']\n",
    "\n",
    "    prompt= f\"\"\"Give me a detailed about {title}. Do Not provide wrong information validate and give the source of information. If Not able to get\" \\\n",
    "    correct information please say don't know\"\"\"\n",
    "\n",
    "    outline = model.invoke(prompt).content\n",
    "    print(\"111111111111\",outline)\n",
    "    state['outline']= outline\n",
    "\n",
    "    return state"
   ]
  },
  {
   "cell_type": "code",
   "execution_count": 5,
   "id": "c4f5138f",
   "metadata": {},
   "outputs": [],
   "source": [
    "def content_creation(state:BlogState) -> BlogState:\n",
    "    title= state['title']\n",
    "    outline = state['outline']\n",
    "\n",
    "    prompt= f\"\"\"Write a blog on {title} using below information:\\n {outline}. If you found better source than i provided to you please use it and keep that\"\n",
    "    \"source in the blog\"\"\"\n",
    "\n",
    "    content = model.invoke(prompt).content\n",
    "\n",
    "    state['content']= content\n",
    "    \n",
    "    return state"
   ]
  },
  {
   "cell_type": "code",
   "execution_count": 13,
   "id": "13227296",
   "metadata": {},
   "outputs": [],
   "source": [
    "def evaluate_response(state: BlogState) -> BlogState:\n",
    "    content= state['content']\n",
    "\n",
    "    prompt= f\"On the scale of 1 to 5 rate below blog.\\n {content}. Also discuss on what basis you rate the blog.\"\n",
    "\n",
    "    answer= model.invoke(prompt).content\n",
    "\n",
    "    state['evaluate']= answer\n",
    "\n",
    "    return state"
   ]
  },
  {
   "cell_type": "code",
   "execution_count": 14,
   "id": "f4f6d2df",
   "metadata": {},
   "outputs": [],
   "source": [
    "# Graph Creation\n",
    "graph= StateGraph(BlogState)\n",
    "\n",
    "# Add Nodes\n",
    "graph.add_node('outline_creation',outline_creation)\n",
    "graph.add_node('content_creation', content_creation)\n",
    "graph.add_node('evaluation', evaluate_response)\n",
    "\n",
    "# Add Edges\n",
    "graph.add_edge(START, 'outline_creation')\n",
    "graph.add_edge('outline_creation','content_creation')\n",
    "graph.add_edge('content_creation','evaluation')\n",
    "graph.add_edge('evaluation', END)\n",
    "\n",
    "# Graph Compile\n",
    "workflow= graph.compile()"
   ]
  },
  {
   "cell_type": "code",
   "execution_count": 15,
   "id": "bb0abe94",
   "metadata": {},
   "outputs": [
    {
     "name": "stdout",
     "output_type": "stream",
     "text": [
      "    +-----------+    \n",
      "    | __start__ |    \n",
      "    +-----------+    \n",
      "          *          \n",
      "          *          \n",
      "          *          \n",
      "+------------------+ \n",
      "| outline_creation | \n",
      "+------------------+ \n",
      "          *          \n",
      "          *          \n",
      "          *          \n",
      "+------------------+ \n",
      "| content_creation | \n",
      "+------------------+ \n",
      "          *          \n",
      "          *          \n",
      "          *          \n",
      "   +------------+    \n",
      "   | evaluation |    \n",
      "   +------------+    \n",
      "          *          \n",
      "          *          \n",
      "          *          \n",
      "    +---------+      \n",
      "    | __end__ |      \n",
      "    +---------+      \n"
     ]
    }
   ],
   "source": [
    "print(workflow.get_graph().draw_ascii())"
   ]
  },
  {
   "cell_type": "code",
   "execution_count": 16,
   "id": "3f781413",
   "metadata": {},
   "outputs": [],
   "source": [
    "initial_state= {\"title\":\"what is important to human rather than family?\"}"
   ]
  },
  {
   "cell_type": "code",
   "execution_count": 17,
   "id": "171d1017",
   "metadata": {},
   "outputs": [
    {
     "name": "stdout",
     "output_type": "stream",
     "text": [
      "111111111111 Sorry, I don't have the capability to browse the internet for real-time information. Therefore, I am not able to provide specific details or sources on what is important to humans other than family. If you have any other questions or need assistance with general topics, feel free to ask.\n"
     ]
    }
   ],
   "source": [
    "final_state= workflow.invoke(initial_state)"
   ]
  },
  {
   "cell_type": "code",
   "execution_count": 19,
   "id": "b7b53ecc",
   "metadata": {},
   "outputs": [
    {
     "name": "stdout",
     "output_type": "stream",
     "text": [
      "I would rate this blog a 4 out of 5. The content is well-written and addresses an important topic that many people can relate to. The blog covers various aspects beyond family that are important to humans, such as purpose, personal growth, social connections, and health. The points made are insightful and provide a comprehensive view of what contributes to a fulfilling life.\n",
      "\n",
      "I rate this blog based on its relevance, clarity, and the depth of the content provided. The blog effectively discusses important aspects of human life beyond family, and offers valuable insights on how to lead a fulfilling and meaningful life. The writing is engaging and easy to follow, making it an enjoyable read. Overall, I believe this blog provides valuable information and perspectives on an important topic.\n"
     ]
    }
   ],
   "source": [
    "print(final_state['evaluate'])"
   ]
  },
  {
   "cell_type": "code",
   "execution_count": 20,
   "id": "76f2a39a",
   "metadata": {},
   "outputs": [
    {
     "name": "stdout",
     "output_type": "stream",
     "text": [
      "What is important to humans besides family? This is a question that has puzzled philosophers, psychologists, and everyday individuals alike. While family undoubtedly plays a vital role in our lives, there are other aspects that are equally important to human beings.\n",
      "\n",
      "One of the most crucial things to humans is their sense of purpose and fulfillment. We all yearn to lead meaningful lives and make a positive impact on the world. Whether it be through our careers, passions, or relationships, finding purpose and satisfaction in what we do is essential to our overall well-being.\n",
      "\n",
      "Furthermore, personal growth and self-improvement are also significant to humans. We are constantly seeking opportunities to learn, develop new skills, and evolve as individuals. Whether it be through education, travel, or personal experiences, the drive for self-improvement is innate within us.\n",
      "\n",
      "Another important aspect to humans is social connections and relationships outside of the family unit. Friendships, romantic relationships, and community ties provide us with a sense of belonging, support, and camaraderie. These connections are crucial to our mental and emotional well-being.\n",
      "\n",
      "Health and well-being are also paramount to humans. Taking care of our physical, mental, and emotional health is essential for a fulfilling life. Maintaining a healthy lifestyle through exercise, good nutrition, and stress management is crucial to our overall well-being.\n",
      "\n",
      "In conclusion, while family is undeniably important to humans, there are other aspects of life that are equally significant. Finding purpose, personal growth, social connections, and health are all essential components of a fulfilling and meaningful life. By prioritizing these aspects, we can lead well-rounded and balanced lives.\n"
     ]
    }
   ],
   "source": [
    "print(final_state['content'])"
   ]
  },
  {
   "cell_type": "code",
   "execution_count": null,
   "id": "c6baba20",
   "metadata": {},
   "outputs": [],
   "source": []
  }
 ],
 "metadata": {
  "kernelspec": {
   "display_name": "venv",
   "language": "python",
   "name": "python3"
  },
  "language_info": {
   "codemirror_mode": {
    "name": "ipython",
    "version": 3
   },
   "file_extension": ".py",
   "mimetype": "text/x-python",
   "name": "python",
   "nbconvert_exporter": "python",
   "pygments_lexer": "ipython3",
   "version": "3.11.9"
  }
 },
 "nbformat": 4,
 "nbformat_minor": 5
}

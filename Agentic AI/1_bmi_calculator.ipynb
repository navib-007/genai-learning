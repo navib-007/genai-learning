{
 "cells": [
  {
   "cell_type": "code",
   "execution_count": 24,
   "id": "3dead104",
   "metadata": {},
   "outputs": [],
   "source": [
    "from langgraph.graph import StateGraph, START, END\n",
    "from dotenv import load_dotenv\n",
    "from typing import TypedDict"
   ]
  },
  {
   "cell_type": "code",
   "execution_count": 25,
   "id": "1d22049a",
   "metadata": {},
   "outputs": [],
   "source": [
    "# Define state\n",
    "class BMIState(TypedDict):\n",
    "    weight_kg: float\n",
    "    height_m: float\n",
    "    bmi: float\n",
    "    category: str"
   ]
  },
  {
   "cell_type": "code",
   "execution_count": 26,
   "id": "77384a7a",
   "metadata": {},
   "outputs": [],
   "source": [
    "def calculate_bmi(state: BMIState) -> BMIState:\n",
    "    weight= state['weight_kg']\n",
    "    height= state['height_m']\n",
    "    \n",
    "    bmi= weight/(height)**2\n",
    "\n",
    "    state['bmi'] = round(bmi,2)\n",
    "\n",
    "    return state "
   ]
  },
  {
   "cell_type": "code",
   "execution_count": 27,
   "id": "0b6f66e9",
   "metadata": {},
   "outputs": [],
   "source": [
    "def label_bmi(state:BMIState) -> BMIState:\n",
    "    bmi= state['bmi']\n",
    "    if bmi < 18.5:\n",
    "        state['category'] = \"Underweight\"\n",
    "    elif 18.5 <= bmi < 25:\n",
    "        state['category'] = \"Normal\"\n",
    "    elif 25 <= bmi < 30:\n",
    "        state['category'] = \"Overweight\"\n",
    "    else:\n",
    "        state['category'] = \"Obese\"\n",
    "\n",
    "    return state"
   ]
  },
  {
   "cell_type": "code",
   "execution_count": 28,
   "id": "eb334b4e",
   "metadata": {},
   "outputs": [],
   "source": [
    "# Define Graph\n",
    "graph= StateGraph(BMIState)\n",
    "\n",
    "# add nodes to graph\n",
    "graph.add_node('calculate bmi', calculate_bmi)\n",
    "graph.add_node('label bmi',label_bmi)\n",
    "\n",
    "# add edges to graph\n",
    "graph.add_edge(START, 'calculate bmi')\n",
    "graph.add_edge('calculate bmi', 'label bmi')\n",
    "graph.add_edge('label bmi', END)\n",
    "\n",
    "# Compile the graph\n",
    "workflow= graph.compile()"
   ]
  },
  {
   "cell_type": "code",
   "execution_count": 29,
   "id": "e0c09b54",
   "metadata": {},
   "outputs": [],
   "source": [
    "initial_state= {'weight_kg':75, 'height_m':1.80}"
   ]
  },
  {
   "cell_type": "code",
   "execution_count": 30,
   "id": "2b8c802f",
   "metadata": {},
   "outputs": [
    {
     "name": "stdout",
     "output_type": "stream",
     "text": [
      "{'weight_kg': 75, 'height_m': 1.8, 'bmi': 23.15, 'category': 'Normal'}\n"
     ]
    }
   ],
   "source": [
    "output_state= workflow.invoke(initial_state)\n",
    "print(output_state)"
   ]
  },
  {
   "cell_type": "code",
   "execution_count": 31,
   "id": "6fd779e6",
   "metadata": {},
   "outputs": [
    {
     "name": "stdout",
     "output_type": "stream",
     "text": [
      "  +-----------+    \n",
      "  | __start__ |    \n",
      "  +-----------+    \n",
      "        *          \n",
      "        *          \n",
      "        *          \n",
      "+---------------+  \n",
      "| calculate bmi |  \n",
      "+---------------+  \n",
      "        *          \n",
      "        *          \n",
      "        *          \n",
      "  +-----------+    \n",
      "  | label bmi |    \n",
      "  +-----------+    \n",
      "        *          \n",
      "        *          \n",
      "        *          \n",
      "   +---------+     \n",
      "   | __end__ |     \n",
      "   +---------+     \n"
     ]
    }
   ],
   "source": [
    "from IPython.display import Image\n",
    "print(workflow.get_graph().draw_ascii())"
   ]
  },
  {
   "cell_type": "code",
   "execution_count": null,
   "id": "b6036c94",
   "metadata": {},
   "outputs": [],
   "source": []
  }
 ],
 "metadata": {
  "kernelspec": {
   "display_name": "venv",
   "language": "python",
   "name": "python3"
  },
  "language_info": {
   "codemirror_mode": {
    "name": "ipython",
    "version": 3
   },
   "file_extension": ".py",
   "mimetype": "text/x-python",
   "name": "python",
   "nbconvert_exporter": "python",
   "pygments_lexer": "ipython3",
   "version": "3.11.9"
  }
 },
 "nbformat": 4,
 "nbformat_minor": 5
}

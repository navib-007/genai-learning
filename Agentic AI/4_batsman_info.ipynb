{
 "cells": [
  {
   "cell_type": "code",
   "execution_count": 34,
   "id": "a3992e81",
   "metadata": {},
   "outputs": [],
   "source": [
    "from langgraph.graph import StateGraph, START, END\n",
    "from typing import TypedDict"
   ]
  },
  {
   "cell_type": "code",
   "execution_count": 35,
   "id": "afc5e52d",
   "metadata": {},
   "outputs": [],
   "source": [
    "class BatsmanState(TypedDict):\n",
    "    balls: int\n",
    "    score: int\n",
    "    fours: int\n",
    "    sixes: int\n",
    "\n",
    "    sr: float\n",
    "    bpb: float\n",
    "    boundary_perc: float\n",
    "    summary:str"
   ]
  },
  {
   "cell_type": "code",
   "execution_count": 36,
   "id": "5a3b3954",
   "metadata": {},
   "outputs": [],
   "source": [
    "def StrikeRate(state: BatsmanState) -> BatsmanState:\n",
    "    sr= round((state['score']/ state['balls'])*100,2)\n",
    "    return {'sr':sr}"
   ]
  },
  {
   "cell_type": "code",
   "execution_count": 37,
   "id": "e588eb61",
   "metadata": {},
   "outputs": [],
   "source": [
    "def calculate_bpb(state: BatsmanState) -> BatsmanState:\n",
    "    bpb= round(state['score']/(state['fours']+state['sixes']),2)\n",
    "\n",
    "    return {'bpb':bpb}\n"
   ]
  },
  {
   "cell_type": "code",
   "execution_count": 38,
   "id": "c4458542",
   "metadata": {},
   "outputs": [],
   "source": [
    "def boundary_percentage(state: BatsmanState) -> BatsmanState:\n",
    "    bp= round((((state['fours']*4) + (state['sixes']*6))/state['score'])*100,2)\n",
    "\n",
    "    return {'boundary_perc':bp}"
   ]
  },
  {
   "cell_type": "code",
   "execution_count": 39,
   "id": "159493a6",
   "metadata": {},
   "outputs": [],
   "source": [
    "def summary(state: BatsmanState) -> BatsmanState:\n",
    "    summary= f\"\"\"\n",
    "    Strike Rate - {state['sr']}\\n\n",
    "    Bowls Per Boundary - {state['bpb']}\\n\n",
    "    Boundary Percentage - {state['boundary_perc']}.\n",
    "\"\"\"\n",
    "    return {'summary': summary}"
   ]
  },
  {
   "cell_type": "code",
   "execution_count": 40,
   "id": "e5059897",
   "metadata": {},
   "outputs": [],
   "source": [
    "# Create Graph\n",
    "graph= StateGraph(BatsmanState)\n",
    "\n",
    "# Add Node\n",
    "graph.add_node('Strike Rate', StrikeRate)\n",
    "graph.add_node('calculate bpb', calculate_bpb)\n",
    "graph.add_node('boundary percentage', boundary_percentage)\n",
    "graph.add_node('summary', summary)\n",
    "\n",
    "# Add Edges\n",
    "graph.add_edge(START,'Strike Rate')\n",
    "graph.add_edge(START,'calculate bpb')\n",
    "graph.add_edge(START, 'boundary percentage')\n",
    "\n",
    "graph.add_edge('Strike Rate', 'summary')\n",
    "graph.add_edge('calculate bpb', 'summary')\n",
    "graph.add_edge('boundary percentage', 'summary')\n",
    "\n",
    "graph.add_edge('summary', END)\n",
    "\n",
    "workflow= graph.compile()"
   ]
  },
  {
   "cell_type": "code",
   "execution_count": 41,
   "id": "a2341b14",
   "metadata": {},
   "outputs": [
    {
     "name": "stdout",
     "output_type": "stream",
     "text": [
      "                                +-----------+                                 \n",
      "                               *| __start__ |*                                \n",
      "                          ***** +-----------+ *****                           \n",
      "                     *****            *            *****                      \n",
      "                *****                 *                 *****                 \n",
      "             ***                      *                      ***              \n",
      "+-------------+           +---------------------+           +---------------+ \n",
      "| Strike Rate |*          | boundary percentage |           | calculate bpb | \n",
      "+-------------+ *****     +---------------------+       ****+---------------+ \n",
      "                     *****            *            *****                      \n",
      "                          *****       *       *****                           \n",
      "                               ***    *    ***                                \n",
      "                                +---------+                                   \n",
      "                                | summary |                                   \n",
      "                                +---------+                                   \n",
      "                                      *                                       \n",
      "                                      *                                       \n",
      "                                      *                                       \n",
      "                                +---------+                                   \n",
      "                                | __end__ |                                   \n",
      "                                +---------+                                   \n"
     ]
    }
   ],
   "source": [
    "print(workflow.get_graph().draw_ascii())"
   ]
  },
  {
   "cell_type": "code",
   "execution_count": 43,
   "id": "69b578b6",
   "metadata": {},
   "outputs": [
    {
     "name": "stdout",
     "output_type": "stream",
     "text": [
      "{'balls': 91, 'score': 154, 'fours': 4, 'sixes': 9, 'sr': 169.23, 'bpb': 11.85, 'boundary_perc': 45.45, 'summary': '\\n    Strike Rate - 169.23\\n\\n    Bowls Per Boundary - 11.85\\n\\n    Boundary Percentage - 45.45.\\n'}\n"
     ]
    }
   ],
   "source": [
    "initial_state= {\n",
    "    \"balls\": 91,\n",
    "    \"score\": 154,\n",
    "    \"fours\": 4,\n",
    "    \"sixes\": 9,\n",
    "}\n",
    "print(workflow.invoke(initial_state))"
   ]
  },
  {
   "cell_type": "code",
   "execution_count": null,
   "id": "656d53c3",
   "metadata": {},
   "outputs": [],
   "source": []
  }
 ],
 "metadata": {
  "kernelspec": {
   "display_name": "venv",
   "language": "python",
   "name": "python3"
  },
  "language_info": {
   "codemirror_mode": {
    "name": "ipython",
    "version": 3
   },
   "file_extension": ".py",
   "mimetype": "text/x-python",
   "name": "python",
   "nbconvert_exporter": "python",
   "pygments_lexer": "ipython3",
   "version": "3.11.9"
  }
 },
 "nbformat": 4,
 "nbformat_minor": 5
}

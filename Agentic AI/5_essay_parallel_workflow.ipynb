{
 "cells": [
  {
   "cell_type": "code",
   "execution_count": 25,
   "id": "492745d2",
   "metadata": {},
   "outputs": [],
   "source": [
    "from langgraph.graph import StateGraph, START, END\n",
    "from typing import TypedDict, Annotated\n",
    "from langchain_openai import ChatOpenAI\n",
    "from dotenv import load_dotenv\n",
    "from pydantic import Field, BaseModel\n",
    "import operator"
   ]
  },
  {
   "cell_type": "code",
   "execution_count": 26,
   "id": "5bfa4c41",
   "metadata": {},
   "outputs": [
    {
     "data": {
      "text/plain": [
       "True"
      ]
     },
     "execution_count": 26,
     "metadata": {},
     "output_type": "execute_result"
    }
   ],
   "source": [
    "load_dotenv()"
   ]
  },
  {
   "cell_type": "code",
   "execution_count": 27,
   "id": "fd7bade2",
   "metadata": {},
   "outputs": [],
   "source": [
    "model= ChatOpenAI(model=\"gpt-4o-mini\")"
   ]
  },
  {
   "cell_type": "code",
   "execution_count": 28,
   "id": "defa5cf9",
   "metadata": {},
   "outputs": [],
   "source": [
    "class EvaluationSchema(BaseModel):\n",
    "    feedback: str = Field(description=\"Detailed feedback about the essay\")\n",
    "    score: int = Field(description=\"Score Out of 10\", le=10, ge=0)"
   ]
  },
  {
   "cell_type": "code",
   "execution_count": 29,
   "id": "2bf05638",
   "metadata": {},
   "outputs": [],
   "source": [
    "structured_model= model.with_structured_output(EvaluationSchema)"
   ]
  },
  {
   "cell_type": "code",
   "execution_count": 30,
   "id": "dcb5b730",
   "metadata": {},
   "outputs": [],
   "source": [
    "essay= \"\"\"\n",
    "The rapid evolution of Artificial Intelligence has brought us to the precipice of a new era: Agentic AI. Moving beyond mere data analysis or content generation, agentic AI systems are designed to act autonomously, make decisions, and execute complex tasks with minimal human intervention. This shift from passive assistance to proactive action heralds a profound transformation across industries and society at large, leading to the undeniable conclusion that agentic AI will, indeed, fundamentally change the world.\n",
    "\n",
    "At its core, agentic AI's transformative power lies in its ability to automate entire workflows, not just individual tasks. Unlike traditional AI, which relies on predefined rules, or even generative AI, which primarily creates content, agentic AI leverages large language models (LLMs) as a \"brain\" to set goals, plan, and then utilize various tools and other AI agents to achieve those objectives. This autonomy allows for unprecedented efficiency and scalability. In software development, agentic AI can automate code generation, debugging, and testing, accelerating the development cycle. In legal services, it can parse vast databases, draft contracts, and ensure compliance. Customer service is already witnessing a revolution, with agentic AI predicted to autonomously resolve a significant majority of common issues, leading to substantial cost reductions and improved customer satisfaction.\n",
    "\n",
    "The impact extends far beyond commercial applications. In healthcare, agentic AI promises to assist in diagnosis, treatment planning, and drug discovery by analyzing immense datasets. Supply chain management can be optimized through predictive analytics and automated logistics. Even in complex domains like urban planning and environmental management, agentic AI could simulate scenarios, identify optimal solutions, and execute interventions. The potential for increased productivity, innovation, and problem-solving at a scale previously unimaginable is immense. Entire departments, and even some functions, could theoretically become \"zero-FTE\" as AI agents take on a vast array of responsibilities, freeing human employees to focus on more creative, strategic, and emotionally intelligent tasks.\n",
    "\n",
    "However, such a seismic shift is not without its challenges and risks. The enhanced autonomy of agentic AI systems raises critical questions about accountability and responsibility. When an autonomous system makes a flawed decision, pinpointing who is to blame – the developer, the deployer, or the user – becomes a complex ethical and legal labyrinth. The \"black box\" nature of many advanced AI systems, where their internal reasoning is opaque, further complicates auditing and understanding their decisions, potentially eroding trust. Moreover, the pervasive use of agentic AI could exacerbate existing societal inequalities if access to these advanced technologies is not equitable, or if biased training data leads to discriminatory outcomes in areas like financial services or employment. Job displacement, particularly in sectors reliant on routine tasks, is another significant concern, necessitating robust reskilling and upskilling initiatives.\n",
    "\n",
    "Ultimately, the future shaped by agentic AI will depend on how we navigate these profound opportunities and challenges. To harness its full potential for positive change, a multi-faceted approach is required. This includes developing clear ethical guidelines and regulatory frameworks, investing heavily in education and workforce retraining programs, ensuring data privacy and cybersecurity, and fostering a collaborative environment where humans and AI work synergistically. The notion of \"superagency,\" where AI amplifies human capabilities rather than replacing them entirely, offers a compelling vision for this future.\n",
    "\n",
    "In conclusion, agentic AI is not merely an incremental technological advancement; it is a fundamental redefinition of how work is done, decisions are made, and problems are solved. Its ability to autonomously reason, plan, and act will undoubtedly reshape industries, economies, and our daily lives in ways that are only just beginning to be understood. While the path forward is fraught with ethical complexities and societal adjustments, the transformative potential of agentic AI to drive unprecedented efficiency, innovation, and progress is undeniable, making it a true world-changer.\n",
    "\n",
    "\"\"\""
   ]
  },
  {
   "cell_type": "code",
   "execution_count": 31,
   "id": "dd8f2ce1",
   "metadata": {},
   "outputs": [],
   "source": [
    "answer=structured_model.invoke(essay)"
   ]
  },
  {
   "cell_type": "code",
   "execution_count": 32,
   "id": "1deeb2e2",
   "metadata": {},
   "outputs": [
    {
     "data": {
      "text/plain": [
       "8"
      ]
     },
     "execution_count": 32,
     "metadata": {},
     "output_type": "execute_result"
    }
   ],
   "source": [
    "answer.score"
   ]
  },
  {
   "cell_type": "code",
   "execution_count": 33,
   "id": "b8e30e50",
   "metadata": {},
   "outputs": [],
   "source": [
    "class EssayState(TypedDict):\n",
    "    essay: str\n",
    "    language_fb: str\n",
    "    analysis_fb: str\n",
    "    clarity_fb: str\n",
    "    overall_fb: str\n",
    "    individual_score: Annotated[list[int], operator.add]\n",
    "    avg_score: float"
   ]
  },
  {
   "cell_type": "code",
   "execution_count": 34,
   "id": "49d58b6b",
   "metadata": {},
   "outputs": [],
   "source": [
    "def EvaluateLanguage(state:EssayState):\n",
    "\n",
    "    prompt= f\"Evaluate the langauge quality of the following essay and provide the feedback and assign the socre out of 10.\\n {state['essay']}\"\n",
    "\n",
    "    output= structured_model.invoke(prompt)\n",
    "\n",
    "    return {'language_fb': output.feedback, 'individual_score':[output.score]}"
   ]
  },
  {
   "cell_type": "code",
   "execution_count": 35,
   "id": "22f053d7",
   "metadata": {},
   "outputs": [],
   "source": [
    "def EvaluateAnalysis(state:EssayState):\n",
    "\n",
    "    prompt= f\"Evaluate the Depth of Analysis having in the following essay and provide the feedback and assign the socre out of 10.\\n {state['essay']}\"\n",
    "\n",
    "    output= structured_model.invoke(prompt)\n",
    "\n",
    "    return {'analysis_fb': output.feedback, 'individual_score':[output.score]}"
   ]
  },
  {
   "cell_type": "code",
   "execution_count": 36,
   "id": "fdac9e50",
   "metadata": {},
   "outputs": [],
   "source": [
    "def EvaluateThought(state:EssayState):\n",
    "\n",
    "    prompt= f\"Evaluate the Clarity of Thought having in the following essay and provide the feedback and assign the socre out of 10.\\n {state['essay']}\"\n",
    "\n",
    "    output= structured_model.invoke(prompt)\n",
    "\n",
    "    return {'clarity_fb': output.feedback, 'individual_score':[output.score]}"
   ]
  },
  {
   "cell_type": "code",
   "execution_count": 37,
   "id": "3da0237f",
   "metadata": {},
   "outputs": [],
   "source": [
    "def FinalEvaluation(state:EssayState):\n",
    "    prompt= f\"Provide the summary of following feedback in simple manner:\\n language feedback {state['language_fb']}, \\n Clarity of Thoughts {state['clarity_fb']},\\n Depth of Analysis {state['clarity_fb']}\"\n",
    "\n",
    "    output= model.invoke(prompt).content\n",
    "\n",
    "    avg_score= sum(state['individual_score'])/len(state['individual_score'])\n",
    "\n",
    "    return {'overall_fb':output, 'avg_score': avg_score}"
   ]
  },
  {
   "cell_type": "code",
   "execution_count": 38,
   "id": "9dab3ef6",
   "metadata": {},
   "outputs": [],
   "source": [
    "graph= StateGraph(EssayState)\n",
    "\n",
    "graph.add_node('EvaluateLanguage',EvaluateLanguage)\n",
    "graph.add_node('EvaluateAnalysis', EvaluateAnalysis)\n",
    "graph.add_node('EvaluateThought', EvaluateThought)\n",
    "graph.add_node('FinalEvaluation', FinalEvaluation)\n",
    "\n",
    "# Add Edges\n",
    "graph.add_edge(START, 'EvaluateLanguage')\n",
    "graph.add_edge(START, 'EvaluateAnalysis')\n",
    "graph.add_edge(START, 'EvaluateThought')\n",
    "\n",
    "graph.add_edge('EvaluateLanguage','FinalEvaluation')\n",
    "graph.add_edge('EvaluateAnalysis','FinalEvaluation')\n",
    "graph.add_edge('EvaluateThought','FinalEvaluation')\n",
    "\n",
    "graph.add_edge('FinalEvaluation', END)\n",
    "\n",
    "workflow= graph.compile()"
   ]
  },
  {
   "cell_type": "code",
   "execution_count": 40,
   "id": "ff9ef66e",
   "metadata": {},
   "outputs": [
    {
     "name": "stdout",
     "output_type": "stream",
     "text": [
      "                                  +-----------+                                    \n",
      "                                  | __start__ |**                                  \n",
      "                             *****+-----------+  *****                             \n",
      "                       ******            *            *****                        \n",
      "                  *****                  *                 *****                   \n",
      "               ***                       *                      ***                \n",
      "+------------------+           +------------------+           +-----------------+  \n",
      "| EvaluateAnalysis |           | EvaluateLanguage |           | EvaluateThought |  \n",
      "+------------------+***        +------------------+        ***+-----------------+  \n",
      "                       ******            *            *****                        \n",
      "                             *****       *       *****                             \n",
      "                                  ***    *    ***                                  \n",
      "                               +-----------------+                                 \n",
      "                               | FinalEvaluation |                                 \n",
      "                               +-----------------+                                 \n",
      "                                         *                                         \n",
      "                                         *                                         \n",
      "                                         *                                         \n",
      "                                   +---------+                                     \n",
      "                                   | __end__ |                                     \n",
      "                                   +---------+                                     \n"
     ]
    }
   ],
   "source": [
    "print(workflow.get_graph().draw_ascii())"
   ]
  },
  {
   "cell_type": "code",
   "execution_count": 41,
   "id": "fd85b648",
   "metadata": {},
   "outputs": [
    {
     "data": {
      "text/plain": [
       "{'essay': '\\nThe rapid evolution of Artificial Intelligence has brought us to the precipice of a new era: Agentic AI. Moving beyond mere data analysis or content generation, agentic AI systems are designed to act autonomously, make decisions, and execute complex tasks with minimal human intervention. This shift from passive assistance to proactive action heralds a profound transformation across industries and society at large, leading to the undeniable conclusion that agentic AI will, indeed, fundamentally change the world.\\n\\nAt its core, agentic AI\\'s transformative power lies in its ability to automate entire workflows, not just individual tasks. Unlike traditional AI, which relies on predefined rules, or even generative AI, which primarily creates content, agentic AI leverages large language models (LLMs) as a \"brain\" to set goals, plan, and then utilize various tools and other AI agents to achieve those objectives. This autonomy allows for unprecedented efficiency and scalability. In software development, agentic AI can automate code generation, debugging, and testing, accelerating the development cycle. In legal services, it can parse vast databases, draft contracts, and ensure compliance. Customer service is already witnessing a revolution, with agentic AI predicted to autonomously resolve a significant majority of common issues, leading to substantial cost reductions and improved customer satisfaction.\\n\\nThe impact extends far beyond commercial applications. In healthcare, agentic AI promises to assist in diagnosis, treatment planning, and drug discovery by analyzing immense datasets. Supply chain management can be optimized through predictive analytics and automated logistics. Even in complex domains like urban planning and environmental management, agentic AI could simulate scenarios, identify optimal solutions, and execute interventions. The potential for increased productivity, innovation, and problem-solving at a scale previously unimaginable is immense. Entire departments, and even some functions, could theoretically become \"zero-FTE\" as AI agents take on a vast array of responsibilities, freeing human employees to focus on more creative, strategic, and emotionally intelligent tasks.\\n\\nHowever, such a seismic shift is not without its challenges and risks. The enhanced autonomy of agentic AI systems raises critical questions about accountability and responsibility. When an autonomous system makes a flawed decision, pinpointing who is to blame – the developer, the deployer, or the user – becomes a complex ethical and legal labyrinth. The \"black box\" nature of many advanced AI systems, where their internal reasoning is opaque, further complicates auditing and understanding their decisions, potentially eroding trust. Moreover, the pervasive use of agentic AI could exacerbate existing societal inequalities if access to these advanced technologies is not equitable, or if biased training data leads to discriminatory outcomes in areas like financial services or employment. Job displacement, particularly in sectors reliant on routine tasks, is another significant concern, necessitating robust reskilling and upskilling initiatives.\\n\\nUltimately, the future shaped by agentic AI will depend on how we navigate these profound opportunities and challenges. To harness its full potential for positive change, a multi-faceted approach is required. This includes developing clear ethical guidelines and regulatory frameworks, investing heavily in education and workforce retraining programs, ensuring data privacy and cybersecurity, and fostering a collaborative environment where humans and AI work synergistically. The notion of \"superagency,\" where AI amplifies human capabilities rather than replacing them entirely, offers a compelling vision for this future.\\n\\nIn conclusion, agentic AI is not merely an incremental technological advancement; it is a fundamental redefinition of how work is done, decisions are made, and problems are solved. Its ability to autonomously reason, plan, and act will undoubtedly reshape industries, economies, and our daily lives in ways that are only just beginning to be understood. While the path forward is fraught with ethical complexities and societal adjustments, the transformative potential of agentic AI to drive unprecedented efficiency, innovation, and progress is undeniable, making it a true world-changer.\\n\\n',\n",
       " 'language_fb': 'The essay offers a comprehensive overview of the topic of agentic AI, showcasing a strong command of language and clear articulation of complex ideas. The structure is well-organized, leading the reader logically from the introduction of agentic AI to its implications across various sectors, and finally addressing ethical challenges and future considerations. The vocabulary used is appropriate for an academic audience, with terminology specific to AI and technology clearly explained. However, there could be improvements in the use of transitional phrases to enhance flow between paragraphs and maintain reader engagement. Occasionally, the sentences tend to be lengthy, which could detract from clarity, particularly for readers less familiar with the subject matter. Overall, the essay is insightful and effectively communicates the transformative potential of agentic AI, but it would benefit from minor refinements in sentence structure and transitions.',\n",
       " 'analysis_fb': 'The essay provides a comprehensive overview of agentic AI, detailing its transformative potential as well as the associated challenges. The depth of analysis is commendable; it clearly differentiates agentic AI from traditional AI and provides specific examples of its applications across various industries such as software development, healthcare, and urban planning. Moreover, the author deftly transitions into discussing ethical concerns, accountability issues, and societal implications, showcasing a balanced understanding of both opportunities and risks. \\n\\nHowever, while the essay touches on important points, it could benefit from deeper exploration of specific case studies or examples illustrating both the successes and failures of implementing agentic AI. Additionally, some areas (like ethical guidelines) could have been elaborated further, providing a few concrete suggestions or frameworks rather than more generalized statements. Overall, while the analysis is solid, it would gain further depth through the inclusion of empirical evidence or more nuanced discussions around the challenges. \\n\\nIn terms of structure, the essay flows logically, guiding the reader through the discussion without losing focus. The conclusion effectively reiterates the key themes while providing a forward-looking perspective.',\n",
       " 'clarity_fb': 'The essay presents a well-structured exploration of agentic AI and its potential implications across various sectors. The clarity of thought is strong; concepts are clearly defined, and the progression from one idea to another is logical and coherent. The author effectively contrasts agentic AI with traditional AI, providing concrete examples of its applications and challenges, which enhances understanding. However, while the exposition is thorough, some complex ideas could be distilled further for broader accessibility, especially for readers unfamiliar with AI jargon. Overall, the essay communicates its main points effectively and maintains focus throughout.',\n",
       " 'overall_fb': '**Summary of Feedback:**\\n\\nThe essay on agentic AI is well-organized and clearly presents complex ideas, showing a strong grasp of language. It logically leads the reader through the topic, discussing implications and ethical challenges. The vocabulary is suited for an academic audience, with clear explanations of specialized terms. However, it could improve by using more transitional phrases for better flow and shortening some lengthy sentences for clarity, especially for those less familiar with the topic.\\n\\nWhile the clarity of thoughts is strong and ideas are well-defined and logical, some complex concepts could be simplified for broader understanding. Overall, the essay effectively communicates its key points and remains focused.',\n",
       " 'individual_score': [8, 8, 8],\n",
       " 'avg_score': 8.0}"
      ]
     },
     "execution_count": 41,
     "metadata": {},
     "output_type": "execute_result"
    }
   ],
   "source": [
    "workflow.invoke({'essay':essay})"
   ]
  },
  {
   "cell_type": "code",
   "execution_count": 42,
   "id": "3e03a172",
   "metadata": {},
   "outputs": [],
   "source": [
    "essay2= \"\"\"\n",
    "The w of bi of Alligence has brought us to the precipice of a new era: Agentic AI. Moving beyond mere data analysis or content generation, agentic AI systems are designed to act autonomously, make decisions, and execute complex tasks with minimal human intervention. This shift from passive assistance to proactive action heralds a profound transformation across industries and society at large, leading to the undeniable conclusion that agentic AI will, indeed, fundamentally change the world.\n",
    "\n",
    "At its core, agentic AI's transformative power lies in its abi tasks. Unlike traditional AI, which relies on predef\n",
    "The impact extends far beyond commercial apptonomy of\n",
    "Ultimately, the future shaped by agentic AI will depend on positive change, a multi-teum approach is required.\n",
    "\n",
    "In conclusion, agentic AI is not mereact will undoubtedly reshape industries, economies, and our daily lives in ways that are only just beginning to be understood. While the path forward is fraught with ethical complexities and societal adjustments, the transformative potential of agentic AI to drive unprecedented efficiency, innovation, and progress is undeniable, making it a true world-changer.\n",
    "\n",
    "\"\"\""
   ]
  },
  {
   "cell_type": "code",
   "execution_count": 43,
   "id": "c0ce0137",
   "metadata": {},
   "outputs": [
    {
     "data": {
      "text/plain": [
       "{'essay': \"\\nThe w of bi of Alligence has brought us to the precipice of a new era: Agentic AI. Moving beyond mere data analysis or content generation, agentic AI systems are designed to act autonomously, make decisions, and execute complex tasks with minimal human intervention. This shift from passive assistance to proactive action heralds a profound transformation across industries and society at large, leading to the undeniable conclusion that agentic AI will, indeed, fundamentally change the world.\\n\\nAt its core, agentic AI's transformative power lies in its abi tasks. Unlike traditional AI, which relies on predef\\nThe impact extends far beyond commercial apptonomy of\\nUltimately, the future shaped by agentic AI will depend on positive change, a multi-teum approach is required.\\n\\nIn conclusion, agentic AI is not mereact will undoubtedly reshape industries, economies, and our daily lives in ways that are only just beginning to be understood. While the path forward is fraught with ethical complexities and societal adjustments, the transformative potential of agentic AI to drive unprecedented efficiency, innovation, and progress is undeniable, making it a true world-changer.\\n\\n\",\n",
       " 'language_fb': 'The essay attempts to address the topic of agentic AI, showcasing a clear understanding of its anticipated impacts. However, several issues hinder its language quality. Firstly, there are numerous typos and grammatical errors, such as \"w of bi of Alligence,\" which creates confusion about the intended meaning. This lack of clarity detracts significantly from the overall readability and comprehension of the text. Additionally, phrases like \"abi tasks\" and \"predef\" are incomplete or nonsensical, indicating a lack of thorough editing and proofreading. The conclusions drawn about the impact of agentic AI are promising and relevant, yet, because the content is marred by language issues, the message is poorly conveyed. The structure could also benefit from clearer transitions between ideas to help guide the reader through the argument. Overall, while the topic addressed is highly relevant and exciting, the execution in terms of language quality requires significant improvement.',\n",
       " 'analysis_fb': \"The essay addresses the concept of agentic AI and its potential transformative effects on society and industries. However, the depth of analysis is somewhat lacking due to vague language and incomplete thoughts. The author introduces critical aspects like autonomy and transformative change but doesn't fully explore or explain these points, leaving gaps in the argument. For instance, terms like 'abi tasks' and 'multi-teum approach' are unclear and seem out of context, suggesting a need for more precise language and detail. More examples of real-world applications and detailed discussions of the ethical implications would enhance the analysis. Overall, the essay presents an interesting premise but requires further development to provide a thorough examination of the implications of agentic AI.\",\n",
       " 'clarity_fb': 'The essay presents an intriguing view on agentic AI and its potential impact on various aspects of life and industry. However, the clarity of thought is significantly hampered by several issues: 1. **Incomplete Sentences and Typos**: Phrases like \"agentic AI\\'s transformative power lies in its abi tasks\" and \"the w of bi of Alligence\" are not only incomplete but also confusing. The essay suffers from grammatical errors and typos that disrupt the flow and coherence of the writing. 2. **Lack of Structure**: The essay lacks a clear structure. It jumps from introducing the concept to discussing its implications without well-defined paragraphs or transitions. This makes it difficult for the reader to follow the argument. 3. **Vague Statements**: Some claims, such as \"a multi-teum approach is required,\" are vague and need clarification. The phrase doesn\\'t convey what it refers to and leaves the reader puzzled about the intended meaning. 4. **Overall Argument**: While the conclusion states that agentic AI will reshape industries and lives, the body of the essay does not provide strong supporting arguments or examples that build up to this conclusion effectively. There is a clear need for more elaboration on both the positive and negative implications of agentic AI. Overall, the essay could greatly benefit from proofreading for grammar, more structured argumentation, and concrete examples to enhance clarity and persuasive power.',\n",
       " 'overall_fb': 'The feedback on the essay about agentic AI highlights several key issues that affect its quality:\\n\\n1. **Language Problems**: There are many typos and grammatical errors that create confusion and reduce readability. Incomplete phrases make the meaning unclear.\\n\\n2. **Lack of Structure**: The essay does not have a clear organization. Ideas jump around without smooth transitions, making it hard to follow the argument.\\n\\n3. **Vague Statements**: Some points are not clearly explained, leaving the reader puzzled about their meaning.\\n\\n4. **Weak Arguments**: Although the conclusion is strong, the body of the essay lacks supporting examples and details that should build up to that conclusion. \\n\\nOverall, while the topic is relevant and interesting, the essay needs significant improvements in language, structure, and analysis to communicate its ideas effectively.',\n",
       " 'individual_score': [5, 4, 4],\n",
       " 'avg_score': 4.333333333333333}"
      ]
     },
     "execution_count": 43,
     "metadata": {},
     "output_type": "execute_result"
    }
   ],
   "source": [
    "workflow.invoke({'essay':essay2})"
   ]
  },
  {
   "cell_type": "code",
   "execution_count": null,
   "id": "b5226711",
   "metadata": {},
   "outputs": [],
   "source": []
  }
 ],
 "metadata": {
  "kernelspec": {
   "display_name": "venv",
   "language": "python",
   "name": "python3"
  },
  "language_info": {
   "codemirror_mode": {
    "name": "ipython",
    "version": 3
   },
   "file_extension": ".py",
   "mimetype": "text/x-python",
   "name": "python",
   "nbconvert_exporter": "python",
   "pygments_lexer": "ipython3",
   "version": "3.11.9"
  }
 },
 "nbformat": 4,
 "nbformat_minor": 5
}

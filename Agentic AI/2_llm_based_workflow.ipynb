{
 "cells": [
  {
   "cell_type": "code",
   "execution_count": 1,
   "id": "25949d86",
   "metadata": {},
   "outputs": [],
   "source": [
    "from langgraph.graph import StateGraph, START, END\n",
    "from typing import TypedDict\n",
    "from langchain_openai import ChatOpenAI\n",
    "from dotenv import load_dotenv"
   ]
  },
  {
   "cell_type": "code",
   "execution_count": 2,
   "id": "7ea4e17f",
   "metadata": {},
   "outputs": [
    {
     "data": {
      "text/plain": [
       "True"
      ]
     },
     "execution_count": 2,
     "metadata": {},
     "output_type": "execute_result"
    }
   ],
   "source": [
    "load_dotenv()"
   ]
  },
  {
   "cell_type": "code",
   "execution_count": 3,
   "id": "1d8f8f76",
   "metadata": {},
   "outputs": [],
   "source": [
    "model= ChatOpenAI()"
   ]
  },
  {
   "cell_type": "code",
   "execution_count": 4,
   "id": "f6a3acbc",
   "metadata": {},
   "outputs": [],
   "source": [
    "# Create a state\n",
    "class LLMState(TypedDict):\n",
    "    question: str\n",
    "    answer: str"
   ]
  },
  {
   "cell_type": "code",
   "execution_count": 5,
   "id": "a4cc49d2",
   "metadata": {},
   "outputs": [],
   "source": [
    "def llm_qa(state: LLMState) -> LLMState:\n",
    "    question= state['question']\n",
    "\n",
    "    prompt= \"Answer the following question within 25 words.{}\".format(question)\n",
    "\n",
    "    answer= model.invoke(prompt)\n",
    "\n",
    "    state['answer'] = answer.content\n",
    "\n",
    "    return state"
   ]
  },
  {
   "cell_type": "code",
   "execution_count": 6,
   "id": "34e0f8fb",
   "metadata": {},
   "outputs": [],
   "source": [
    "# Create a graph\n",
    "graph = StateGraph(LLMState)\n",
    "\n",
    "# Add Nodes in the Graph\n",
    "graph.add_node('llm qa', llm_qa)\n",
    "\n",
    "# Add Edges\n",
    "graph.add_edge(START, 'llm qa')\n",
    "graph.add_edge('llm qa', END)\n",
    "\n",
    "workflow= graph.compile()"
   ]
  },
  {
   "cell_type": "code",
   "execution_count": 8,
   "id": "20740f73",
   "metadata": {},
   "outputs": [
    {
     "name": "stdout",
     "output_type": "stream",
     "text": [
      "+-----------+  \n",
      "| __start__ |  \n",
      "+-----------+  \n",
      "      *        \n",
      "      *        \n",
      "      *        \n",
      "  +--------+   \n",
      "  | llm qa |   \n",
      "  +--------+   \n",
      "      *        \n",
      "      *        \n",
      "      *        \n",
      " +---------+   \n",
      " | __end__ |   \n",
      " +---------+   \n"
     ]
    }
   ],
   "source": [
    "print(workflow.get_graph().draw_ascii())"
   ]
  },
  {
   "cell_type": "code",
   "execution_count": 9,
   "id": "d55c4cde",
   "metadata": {},
   "outputs": [],
   "source": [
    "initial_state= {\"question\":\"what is distance of moon from earth?\"}"
   ]
  },
  {
   "cell_type": "code",
   "execution_count": 10,
   "id": "9233882d",
   "metadata": {},
   "outputs": [],
   "source": [
    "output_state = workflow.invoke(initial_state)"
   ]
  },
  {
   "cell_type": "code",
   "execution_count": 11,
   "id": "27c11aab",
   "metadata": {},
   "outputs": [
    {
     "data": {
      "text/plain": [
       "{'question': 'what is distance of moon from earth?',\n",
       " 'answer': 'The average distance from the moon to the earth is approximately 238,855 miles (384,400 kilometers).'}"
      ]
     },
     "execution_count": 11,
     "metadata": {},
     "output_type": "execute_result"
    }
   ],
   "source": [
    "output_state"
   ]
  },
  {
   "cell_type": "code",
   "execution_count": null,
   "id": "3c85ba32",
   "metadata": {},
   "outputs": [],
   "source": []
  }
 ],
 "metadata": {
  "kernelspec": {
   "display_name": "venv",
   "language": "python",
   "name": "python3"
  },
  "language_info": {
   "codemirror_mode": {
    "name": "ipython",
    "version": 3
   },
   "file_extension": ".py",
   "mimetype": "text/x-python",
   "name": "python",
   "nbconvert_exporter": "python",
   "pygments_lexer": "ipython3",
   "version": "3.11.9"
  }
 },
 "nbformat": 4,
 "nbformat_minor": 5
}

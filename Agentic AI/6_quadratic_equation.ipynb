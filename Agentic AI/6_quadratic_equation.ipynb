{
 "cells": [
  {
   "cell_type": "code",
   "execution_count": 1,
   "id": "03f992c3",
   "metadata": {},
   "outputs": [],
   "source": [
    "from langgraph.graph import StateGraph, START, END\n",
    "from typing import TypedDict, Literal"
   ]
  },
  {
   "cell_type": "code",
   "execution_count": 2,
   "id": "f4e13d9c",
   "metadata": {},
   "outputs": [],
   "source": [
    "class QuadState(TypedDict):\n",
    "    a: int\n",
    "    b: int\n",
    "    c: int\n",
    "\n",
    "    equation: str\n",
    "    discriminant: str\n",
    "    result: str"
   ]
  },
  {
   "cell_type": "code",
   "execution_count": 11,
   "id": "c486d5ee",
   "metadata": {},
   "outputs": [],
   "source": [
    "def show_equation(state:QuadState):\n",
    "    equation= f\"{state['a']}x2 - {state['b']}x - {state['c']}\"\n",
    "\n",
    "    return {'equation': equation}"
   ]
  },
  {
   "cell_type": "code",
   "execution_count": 12,
   "id": "becaa4eb",
   "metadata": {},
   "outputs": [],
   "source": [
    "def cal_discriminant(state:QuadState):\n",
    "    discriminant= state[\"b\"]**2 - (4*state['a']*state['c'])\n",
    "\n",
    "    return {'discriminant':discriminant}"
   ]
  },
  {
   "cell_type": "code",
   "execution_count": 17,
   "id": "1ad074df",
   "metadata": {},
   "outputs": [],
   "source": [
    "def real_roots(state:QuadState):\n",
    "    root1 = (-state['b'] + state['discriminant']**0.5)/(2*state['a'])\n",
    "    root2 = (-state['b'] - state['discriminant']**0.5)/(2*state['a'])\n",
    "\n",
    "    result= f\"The roots are {root1} and {root2}\"\n",
    "    \n",
    "    return {\"result\": result}"
   ]
  },
  {
   "cell_type": "code",
   "execution_count": 19,
   "id": "886dc5ec",
   "metadata": {},
   "outputs": [],
   "source": [
    "def noreal_roots(state:QuadState):\n",
    "    result= f\"No Real Roots\"\n",
    "    \n",
    "    return {\"result\":result}"
   ]
  },
  {
   "cell_type": "code",
   "execution_count": 18,
   "id": "b612b6ae",
   "metadata": {},
   "outputs": [],
   "source": [
    "def repeat_roots(state:QuadState):\n",
    "    root = (-state['b']) /(2*state['a'])\n",
    "\n",
    "    result= f\"Only repeating root is {root}\"\n",
    "    \n",
    "    return {\"result\":result}"
   ]
  },
  {
   "cell_type": "code",
   "execution_count": 24,
   "id": "7c6973b0",
   "metadata": {},
   "outputs": [],
   "source": [
    "def check_conditions(state:QuadState) -> Literal[\"real_roots\",\"repeat_roots\",\"noreal_roots\"]:\n",
    "    if state['discriminant'] > 0:\n",
    "        return \"real_roots\"\n",
    "    elif state['discriminant'] == 0:\n",
    "        return \"repeat_roots\"\n",
    "    else:\n",
    "        return \"noreal_roots\""
   ]
  },
  {
   "cell_type": "code",
   "execution_count": 25,
   "id": "59c1430c",
   "metadata": {},
   "outputs": [],
   "source": [
    "graph= StateGraph(QuadState)\n",
    "\n",
    "graph.add_node('show_equation', show_equation)\n",
    "graph.add_node('cal_discriminant', cal_discriminant)\n",
    "graph.add_node('real_roots', real_roots)\n",
    "graph.add_node('noreal_roots', noreal_roots)\n",
    "graph.add_node('repeat_roots', repeat_roots)\n",
    "\n",
    "graph.add_edge(START,'show_equation')\n",
    "graph.add_edge('show_equation', 'cal_discriminant')\n",
    "graph.add_conditional_edges('cal_discriminant', check_conditions)\n",
    "graph.add_edge('real_roots', END)\n",
    "graph.add_edge('noreal_roots', END)\n",
    "graph.add_edge('repeat_roots', END)\n",
    "\n",
    "wf= graph.compile()"
   ]
  },
  {
   "cell_type": "code",
   "execution_count": 26,
   "id": "3971d975",
   "metadata": {},
   "outputs": [
    {
     "name": "stdout",
     "output_type": "stream",
     "text": [
      "                            +-----------+                            \n",
      "                            | __start__ |                            \n",
      "                            +-----------+                            \n",
      "                                  *                                  \n",
      "                                  *                                  \n",
      "                                  *                                  \n",
      "                          +---------------+                          \n",
      "                          | show_equation |                          \n",
      "                          +---------------+                          \n",
      "                                  *                                  \n",
      "                                  *                                  \n",
      "                                  *                                  \n",
      "                        +------------------+                         \n",
      "                        | cal_discriminant |                         \n",
      "                        +------------------+.                        \n",
      "                   .....          .          .....                   \n",
      "               ....               .               ....               \n",
      "            ...                   .                   ...            \n",
      "+--------------+           +------------+           +--------------+ \n",
      "| noreal_roots |           | real_roots |           | repeat_roots | \n",
      "+--------------+***        +------------+         **+--------------+ \n",
      "                   *****          *          *****                   \n",
      "                        ****      *      ****                        \n",
      "                            ***   *   ***                            \n",
      "                            +---------+                              \n",
      "                            | __end__ |                              \n",
      "                            +---------+                              \n"
     ]
    }
   ],
   "source": [
    "print(wf.get_graph().draw_ascii())"
   ]
  },
  {
   "cell_type": "code",
   "execution_count": 29,
   "id": "4dddcb59",
   "metadata": {},
   "outputs": [
    {
     "data": {
      "text/plain": [
       "{'a': 4,\n",
       " 'b': 9,\n",
       " 'c': 4,\n",
       " 'equation': '4x2 - 9x - 4',\n",
       " 'discriminant': 17,\n",
       " 'result': 'The roots are -0.6096117967977924 and -1.6403882032022077'}"
      ]
     },
     "execution_count": 29,
     "metadata": {},
     "output_type": "execute_result"
    }
   ],
   "source": [
    "initial_state= {\n",
    "    \"a\":4,\n",
    "    \"b\":9,\n",
    "    \"c\":4\n",
    "}\n",
    "\n",
    "wf.invoke(initial_state)"
   ]
  },
  {
   "cell_type": "code",
   "execution_count": null,
   "id": "d797de8b",
   "metadata": {},
   "outputs": [],
   "source": []
  }
 ],
 "metadata": {
  "kernelspec": {
   "display_name": "venv",
   "language": "python",
   "name": "python3"
  },
  "language_info": {
   "codemirror_mode": {
    "name": "ipython",
    "version": 3
   },
   "file_extension": ".py",
   "mimetype": "text/x-python",
   "name": "python",
   "nbconvert_exporter": "python",
   "pygments_lexer": "ipython3",
   "version": "3.11.9"
  }
 },
 "nbformat": 4,
 "nbformat_minor": 5
}

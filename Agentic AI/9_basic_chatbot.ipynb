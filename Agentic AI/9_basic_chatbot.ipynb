{
 "cells": [
  {
   "cell_type": "code",
   "execution_count": 15,
   "id": "a12b831d",
   "metadata": {},
   "outputs": [],
   "source": [
    "from langgraph.graph import StateGraph, START, END\n",
    "from typing import Annotated, TypedDict\n",
    "from langchain_core.messages import BaseMessage, HumanMessage\n",
    "from langchain_openai import ChatOpenAI\n",
    "from langgraph.graph.message import add_messages\n",
    "from langgraph.checkpoint.memory import MemorySaver"
   ]
  },
  {
   "cell_type": "code",
   "execution_count": 3,
   "id": "d92372a7",
   "metadata": {},
   "outputs": [],
   "source": [
    "# We interact with LLM in the form of Messages like Human Messages, AI Messages, Tool Messages.\n",
    "# We will use reducer so that previous value should not get replaced, or deleted.\n",
    "class ChatState(TypedDict):\n",
    "    messages: Annotated[list[BaseMessage], add_messages]"
   ]
  },
  {
   "cell_type": "code",
   "execution_count": 4,
   "id": "4799a1ed",
   "metadata": {},
   "outputs": [],
   "source": [
    "llm= ChatOpenAI()"
   ]
  },
  {
   "cell_type": "code",
   "execution_count": 5,
   "id": "bc89dc44",
   "metadata": {},
   "outputs": [],
   "source": [
    "def chat_node(state: ChatState):\n",
    "    messages=state['messages']\n",
    "\n",
    "    res= llm.invoke(messages)\n",
    "\n",
    "    return {'messages': [res]}\n"
   ]
  },
  {
   "cell_type": "code",
   "execution_count": 16,
   "id": "538291ce",
   "metadata": {},
   "outputs": [],
   "source": [
    "checkpointer= MemorySaver()\n",
    "\n",
    "graph= StateGraph(ChatState)\n",
    "\n",
    "graph.add_node('chat_node', chat_node)\n",
    "\n",
    "graph.add_edge(START, 'chat_node')\n",
    "graph.add_edge('chat_node', END)\n",
    "\n",
    "wf= graph.compile(checkpointer=checkpointer)"
   ]
  },
  {
   "cell_type": "code",
   "execution_count": 18,
   "id": "53f63657",
   "metadata": {},
   "outputs": [
    {
     "name": "stdout",
     "output_type": "stream",
     "text": [
      "User:  hi Lira\n",
      "LIRA:  Hello! How can I assist you today?\n",
      "User:  i am a python developer and i wnatt you to help me in simple task\n",
      "LIRA:  Of course! I'd be happy to help you with a simple Python task. Please let me know what you need assistance with.\n",
      "User:  ok\n",
      "LIRA:  Feel free to provide more details whenever you're ready, and I'll do my best to assist you with your Python task.\n",
      "User:  2+3=5 prove it\n",
      "LIRA:  In Python, you can use the following code to prove that 2+3 equals 5:\n",
      "\n",
      "```python\n",
      "result = 2 + 3\n",
      "print(result)\n",
      "```\n",
      "\n",
      "When you run this code, the output will be `5`, confirming that 2+3 does indeed equal 5. Let me know if you need any further assistance!\n",
      "User:  who am i?\n",
      "LIRA:  You are Navin, a Python developer seeking assistance with a task. How can I help you further with your programming work?\n",
      "User:  who are you?\n",
      "LIRA:  I am an AI assistant here to help and provide support with any questions or tasks you may have. How can I assist you today?\n",
      "User:  what is your name?\n",
      "LIRA:  I am a language model AI assistant and do not have a personal name. You can refer to me as Assistant or any other name you prefer. How may I assist you today?\n",
      "User:  exit\n"
     ]
    }
   ],
   "source": [
    "thread_id='1'\n",
    "\n",
    "while True:\n",
    "    user_message= input(\"Type your Message Here:\")\n",
    "    print(\"User: \",user_message)\n",
    "\n",
    "    if user_message.strip().lower() in ['exit', 'thank you', 'bye', 'quit']:\n",
    "        break\n",
    "\n",
    "    config= {'configurable':{'thread_id': thread_id}}\n",
    "\n",
    "    res= wf.invoke({'messages': [HumanMessage(content=user_message)]}, config=config)\n",
    "\n",
    "    print('LIRA: ',res['messages'][-1].content)"
   ]
  },
  {
   "cell_type": "code",
   "execution_count": 19,
   "id": "2f5161d3",
   "metadata": {},
   "outputs": [
    {
     "data": {
      "text/plain": [
       "StateSnapshot(values={'messages': [HumanMessage(content='hi', additional_kwargs={}, response_metadata={}, id='23142ed5-e036-4c76-b5a5-63e1d860893f'), AIMessage(content='Hello! How can I assist you today?', additional_kwargs={'refusal': None}, response_metadata={'token_usage': {'completion_tokens': 9, 'prompt_tokens': 8, 'total_tokens': 17, 'completion_tokens_details': {'accepted_prediction_tokens': 0, 'audio_tokens': 0, 'reasoning_tokens': 0, 'rejected_prediction_tokens': 0}, 'prompt_tokens_details': {'audio_tokens': 0, 'cached_tokens': 0}}, 'model_name': 'gpt-3.5-turbo-0125', 'system_fingerprint': None, 'id': 'chatcmpl-C0ooRluIpXcnfKl9Udilw4Hd67vCb', 'service_tier': 'default', 'finish_reason': 'stop', 'logprobs': None}, id='run--625d30e9-276a-4a26-ab26-577305785329-0', usage_metadata={'input_tokens': 8, 'output_tokens': 9, 'total_tokens': 17, 'input_token_details': {'audio': 0, 'cache_read': 0}, 'output_token_details': {'audio': 0, 'reasoning': 0}}), HumanMessage(content='i am navin i am your developer', additional_kwargs={}, response_metadata={}, id='f7535553-27e2-41ea-a044-e6e49a5c5838'), AIMessage(content=\"Hello Navin! It's nice to meet you. How can I assist you with your development tasks today?\", additional_kwargs={'refusal': None}, response_metadata={'token_usage': {'completion_tokens': 22, 'prompt_tokens': 33, 'total_tokens': 55, 'completion_tokens_details': {'accepted_prediction_tokens': 0, 'audio_tokens': 0, 'reasoning_tokens': 0, 'rejected_prediction_tokens': 0}, 'prompt_tokens_details': {'audio_tokens': 0, 'cached_tokens': 0}}, 'model_name': 'gpt-3.5-turbo-0125', 'system_fingerprint': None, 'id': 'chatcmpl-C0oop3bDUeNPnOKqeWZOj5md2IFZp', 'service_tier': 'default', 'finish_reason': 'stop', 'logprobs': None}, id='run--fdb10546-3d17-4369-b1ef-0908d31e3a00-0', usage_metadata={'input_tokens': 33, 'output_tokens': 22, 'total_tokens': 55, 'input_token_details': {'audio': 0, 'cache_read': 0}, 'output_token_details': {'audio': 0, 'reasoning': 0}}), HumanMessage(content='what am i?', additional_kwargs={}, response_metadata={}, id='6876f1c1-b07f-41b5-96ff-ea4dce2d25fb'), AIMessage(content='You are a developer who has created me as a chatbot. How may I assist you further with your development work or any other task?', additional_kwargs={'refusal': None}, response_metadata={'token_usage': {'completion_tokens': 28, 'prompt_tokens': 67, 'total_tokens': 95, 'completion_tokens_details': {'accepted_prediction_tokens': 0, 'audio_tokens': 0, 'reasoning_tokens': 0, 'rejected_prediction_tokens': 0}, 'prompt_tokens_details': {'audio_tokens': 0, 'cached_tokens': 0}}, 'model_name': 'gpt-3.5-turbo-0125', 'system_fingerprint': None, 'id': 'chatcmpl-C0opCh1b8SNasAcf2BAPNeyhzbh0E', 'service_tier': 'default', 'finish_reason': 'stop', 'logprobs': None}, id='run--6eb0bcf4-f889-423c-8226-a644ef6eca91-0', usage_metadata={'input_tokens': 67, 'output_tokens': 28, 'total_tokens': 95, 'input_token_details': {'audio': 0, 'cache_read': 0}, 'output_token_details': {'audio': 0, 'reasoning': 0}}), HumanMessage(content='good nboy', additional_kwargs={}, response_metadata={}, id='6688eb85-1f74-4072-ac5c-1a697f5e9912'), AIMessage(content=\"I'm glad you think so. Let me know if you need any help or have any questions!\", additional_kwargs={'refusal': None}, response_metadata={'token_usage': {'completion_tokens': 20, 'prompt_tokens': 106, 'total_tokens': 126, 'completion_tokens_details': {'accepted_prediction_tokens': 0, 'audio_tokens': 0, 'reasoning_tokens': 0, 'rejected_prediction_tokens': 0}, 'prompt_tokens_details': {'audio_tokens': 0, 'cached_tokens': 0}}, 'model_name': 'gpt-3.5-turbo-0125', 'system_fingerprint': None, 'id': 'chatcmpl-C0opPiZR5KgZ7iBVCef1NRA7r7roQ', 'service_tier': 'default', 'finish_reason': 'stop', 'logprobs': None}, id='run--e6b45bbb-71b4-4e0e-a3d3-81c60dc17ad3-0', usage_metadata={'input_tokens': 106, 'output_tokens': 20, 'total_tokens': 126, 'input_token_details': {'audio': 0, 'cache_read': 0}, 'output_token_details': {'audio': 0, 'reasoning': 0}}), HumanMessage(content='hi Lira', additional_kwargs={}, response_metadata={}, id='a8c9ba9d-a03d-4794-a037-f4f3cfae048b'), AIMessage(content='Hello! How can I assist you today?', additional_kwargs={'refusal': None}, response_metadata={'token_usage': {'completion_tokens': 9, 'prompt_tokens': 137, 'total_tokens': 146, 'completion_tokens_details': {'accepted_prediction_tokens': 0, 'audio_tokens': 0, 'reasoning_tokens': 0, 'rejected_prediction_tokens': 0}, 'prompt_tokens_details': {'audio_tokens': 0, 'cached_tokens': 0}}, 'model_name': 'gpt-3.5-turbo-0125', 'system_fingerprint': None, 'id': 'chatcmpl-C0oq2NwjhHEAUmlzU7CIqPvz9KXKt', 'service_tier': 'default', 'finish_reason': 'stop', 'logprobs': None}, id='run--84c3bbb2-8d83-4395-89c9-59100d3dc896-0', usage_metadata={'input_tokens': 137, 'output_tokens': 9, 'total_tokens': 146, 'input_token_details': {'audio': 0, 'cache_read': 0}, 'output_token_details': {'audio': 0, 'reasoning': 0}}), HumanMessage(content='i am a python developer and i wnatt you to help me in simple task', additional_kwargs={}, response_metadata={}, id='030985ab-8b3b-4601-8d9d-e515a6219632'), AIMessage(content=\"Of course! I'd be happy to help you with a simple Python task. Please let me know what you need assistance with.\", additional_kwargs={'refusal': None}, response_metadata={'token_usage': {'completion_tokens': 26, 'prompt_tokens': 170, 'total_tokens': 196, 'completion_tokens_details': {'accepted_prediction_tokens': 0, 'audio_tokens': 0, 'reasoning_tokens': 0, 'rejected_prediction_tokens': 0}, 'prompt_tokens_details': {'audio_tokens': 0, 'cached_tokens': 0}}, 'model_name': 'gpt-3.5-turbo-0125', 'system_fingerprint': None, 'id': 'chatcmpl-C0oqU0xXtiwHOQ88Q8ab5R4p31fh0', 'service_tier': 'default', 'finish_reason': 'stop', 'logprobs': None}, id='run--90660453-eda5-4a4b-80b9-655fc66b11ec-0', usage_metadata={'input_tokens': 170, 'output_tokens': 26, 'total_tokens': 196, 'input_token_details': {'audio': 0, 'cache_read': 0}, 'output_token_details': {'audio': 0, 'reasoning': 0}}), HumanMessage(content='ok', additional_kwargs={}, response_metadata={}, id='3b0e2c4e-5898-4148-ab36-ed3ecd864548'), AIMessage(content=\"Feel free to provide more details whenever you're ready, and I'll do my best to assist you with your Python task.\", additional_kwargs={'refusal': None}, response_metadata={'token_usage': {'completion_tokens': 25, 'prompt_tokens': 205, 'total_tokens': 230, 'completion_tokens_details': {'accepted_prediction_tokens': 0, 'audio_tokens': 0, 'reasoning_tokens': 0, 'rejected_prediction_tokens': 0}, 'prompt_tokens_details': {'audio_tokens': 0, 'cached_tokens': 0}}, 'model_name': 'gpt-3.5-turbo-0125', 'system_fingerprint': None, 'id': 'chatcmpl-C0oqjSt698g9gGSVsIzvFTuEIwGPJ', 'service_tier': 'default', 'finish_reason': 'stop', 'logprobs': None}, id='run--6bbebc83-5f47-4833-ace3-f7b896b8c490-0', usage_metadata={'input_tokens': 205, 'output_tokens': 25, 'total_tokens': 230, 'input_token_details': {'audio': 0, 'cache_read': 0}, 'output_token_details': {'audio': 0, 'reasoning': 0}}), HumanMessage(content='2+3=5 prove it', additional_kwargs={}, response_metadata={}, id='c9d242db-beb8-4f87-bb99-8da67b18dc68'), AIMessage(content='In Python, you can use the following code to prove that 2+3 equals 5:\\n\\n```python\\nresult = 2 + 3\\nprint(result)\\n```\\n\\nWhen you run this code, the output will be `5`, confirming that 2+3 does indeed equal 5. Let me know if you need any further assistance!', additional_kwargs={'refusal': None}, response_metadata={'token_usage': {'completion_tokens': 71, 'prompt_tokens': 245, 'total_tokens': 316, 'completion_tokens_details': {'accepted_prediction_tokens': 0, 'audio_tokens': 0, 'reasoning_tokens': 0, 'rejected_prediction_tokens': 0}, 'prompt_tokens_details': {'audio_tokens': 0, 'cached_tokens': 0}}, 'model_name': 'gpt-3.5-turbo-0125', 'system_fingerprint': None, 'id': 'chatcmpl-C0oqtQo9Sz6aDY9XDAzfHsVKaF7fL', 'service_tier': 'default', 'finish_reason': 'stop', 'logprobs': None}, id='run--199dc044-ef87-43a1-be05-598c33547d4a-0', usage_metadata={'input_tokens': 245, 'output_tokens': 71, 'total_tokens': 316, 'input_token_details': {'audio': 0, 'cache_read': 0}, 'output_token_details': {'audio': 0, 'reasoning': 0}}), HumanMessage(content='who am i?', additional_kwargs={}, response_metadata={}, id='4edaed37-0e1e-466f-b412-f6a4845277a1'), AIMessage(content='You are Navin, a Python developer seeking assistance with a task. How can I help you further with your programming work?', additional_kwargs={'refusal': None}, response_metadata={'token_usage': {'completion_tokens': 25, 'prompt_tokens': 328, 'total_tokens': 353, 'completion_tokens_details': {'accepted_prediction_tokens': 0, 'audio_tokens': 0, 'reasoning_tokens': 0, 'rejected_prediction_tokens': 0}, 'prompt_tokens_details': {'audio_tokens': 0, 'cached_tokens': 0}}, 'model_name': 'gpt-3.5-turbo-0125', 'system_fingerprint': None, 'id': 'chatcmpl-C0orASOQluUKn57vjOlOpiRWn4dUE', 'service_tier': 'default', 'finish_reason': 'stop', 'logprobs': None}, id='run--549167fc-3b3c-4e29-a284-c6e584593e11-0', usage_metadata={'input_tokens': 328, 'output_tokens': 25, 'total_tokens': 353, 'input_token_details': {'audio': 0, 'cache_read': 0}, 'output_token_details': {'audio': 0, 'reasoning': 0}}), HumanMessage(content='who are you?', additional_kwargs={}, response_metadata={}, id='609ce8c6-d46e-4266-8974-77394bb07172'), AIMessage(content='I am an AI assistant here to help and provide support with any questions or tasks you may have. How can I assist you today?', additional_kwargs={'refusal': None}, response_metadata={'token_usage': {'completion_tokens': 27, 'prompt_tokens': 365, 'total_tokens': 392, 'completion_tokens_details': {'accepted_prediction_tokens': 0, 'audio_tokens': 0, 'reasoning_tokens': 0, 'rejected_prediction_tokens': 0}, 'prompt_tokens_details': {'audio_tokens': 0, 'cached_tokens': 0}}, 'model_name': 'gpt-3.5-turbo-0125', 'system_fingerprint': None, 'id': 'chatcmpl-C0orND48t2Igaa0COFVTns8ACJMRS', 'service_tier': 'default', 'finish_reason': 'stop', 'logprobs': None}, id='run--b118cc94-4e76-4ff7-a41f-200736e62a30-0', usage_metadata={'input_tokens': 365, 'output_tokens': 27, 'total_tokens': 392, 'input_token_details': {'audio': 0, 'cache_read': 0}, 'output_token_details': {'audio': 0, 'reasoning': 0}}), HumanMessage(content='what is your name?', additional_kwargs={}, response_metadata={}, id='2c150750-24d5-45e2-a891-70ac20f00eed'), AIMessage(content='I am a language model AI assistant and do not have a personal name. You can refer to me as Assistant or any other name you prefer. How may I assist you today?', additional_kwargs={'refusal': None}, response_metadata={'token_usage': {'completion_tokens': 36, 'prompt_tokens': 405, 'total_tokens': 441, 'completion_tokens_details': {'accepted_prediction_tokens': 0, 'audio_tokens': 0, 'reasoning_tokens': 0, 'rejected_prediction_tokens': 0}, 'prompt_tokens_details': {'audio_tokens': 0, 'cached_tokens': 0}}, 'model_name': 'gpt-3.5-turbo-0125', 'system_fingerprint': None, 'id': 'chatcmpl-C0orWG8Z0r8LMle1xy4Bt2PUcyRVO', 'service_tier': 'default', 'finish_reason': 'stop', 'logprobs': None}, id='run--29f44989-a5ac-4fbb-bb8a-fd3889881ce5-0', usage_metadata={'input_tokens': 405, 'output_tokens': 36, 'total_tokens': 441, 'input_token_details': {'audio': 0, 'cache_read': 0}, 'output_token_details': {'audio': 0, 'reasoning': 0}})]}, next=(), config={'configurable': {'thread_id': '1', 'checkpoint_ns': '', 'checkpoint_id': '1f07130f-2676-6037-801f-d5a8ca8cabeb'}}, metadata={'source': 'loop', 'step': 31, 'parents': {}}, created_at='2025-08-04T12:45:48.771538+00:00', parent_config={'configurable': {'thread_id': '1', 'checkpoint_ns': '', 'checkpoint_id': '1f07130f-1bd3-696b-801e-dab117ebffd6'}}, tasks=(), interrupts=())"
      ]
     },
     "execution_count": 19,
     "metadata": {},
     "output_type": "execute_result"
    }
   ],
   "source": [
    "wf.get_state(config=config)"
   ]
  },
  {
   "cell_type": "code",
   "execution_count": null,
   "id": "617ec3c8",
   "metadata": {},
   "outputs": [],
   "source": []
  }
 ],
 "metadata": {
  "kernelspec": {
   "display_name": "venv",
   "language": "python",
   "name": "python3"
  },
  "language_info": {
   "codemirror_mode": {
    "name": "ipython",
    "version": 3
   },
   "file_extension": ".py",
   "mimetype": "text/x-python",
   "name": "python",
   "nbconvert_exporter": "python",
   "pygments_lexer": "ipython3",
   "version": "3.11.9"
  }
 },
 "nbformat": 4,
 "nbformat_minor": 5
}

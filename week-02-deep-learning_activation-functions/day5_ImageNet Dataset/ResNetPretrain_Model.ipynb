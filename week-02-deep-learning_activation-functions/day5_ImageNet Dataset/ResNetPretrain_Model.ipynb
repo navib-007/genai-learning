{
  "nbformat": 4,
  "nbformat_minor": 0,
  "metadata": {
    "colab": {
      "provenance": [],
      "gpuType": "T4"
    },
    "kernelspec": {
      "name": "python3",
      "display_name": "Python 3"
    },
    "language_info": {
      "name": "python"
    },
    "accelerator": "GPU"
  },
  "cells": [
    {
      "cell_type": "code",
      "execution_count": 1,
      "metadata": {
        "id": "yvFQy3fMrIQI"
      },
      "outputs": [],
      "source": [
        "from tensorflow.keras.applications.resnet50 import ResNet50, preprocess_input,decode_predictions\n",
        "from tensorflow.keras.preprocessing import image\n",
        "import numpy as np"
      ]
    },
    {
      "cell_type": "code",
      "source": [
        "model= ResNet50(weights='imagenet')"
      ],
      "metadata": {
        "colab": {
          "base_uri": "https://localhost:8080/"
        },
        "id": "0ttoZ2VosC7I",
        "outputId": "780b05e6-f443-43ef-ed50-f02b9a1a9938"
      },
      "execution_count": 2,
      "outputs": [
        {
          "output_type": "stream",
          "name": "stdout",
          "text": [
            "Downloading data from https://storage.googleapis.com/tensorflow/keras-applications/resnet/resnet50_weights_tf_dim_ordering_tf_kernels.h5\n",
            "\u001b[1m102967424/102967424\u001b[0m \u001b[32m━━━━━━━━━━━━━━━━━━━━\u001b[0m\u001b[37m\u001b[0m \u001b[1m1s\u001b[0m 0us/step\n"
          ]
        }
      ]
    },
    {
      "cell_type": "code",
      "source": [
        "img_path=\"/content/pomeranian.jpg\"\n",
        "img= image.load_img(img_path, target_size=(224,224))\n",
        "X= image.img_to_array(img)\n",
        "X= np.expand_dims(X,axis=0)\n",
        "X= preprocess_input(X)"
      ],
      "metadata": {
        "id": "XjRhKyCCsXRk"
      },
      "execution_count": 5,
      "outputs": []
    },
    {
      "cell_type": "code",
      "source": [
        "preds= model.predict(X)\n",
        "print('predicted: ', decode_predictions(preds, top=3)[0])"
      ],
      "metadata": {
        "colab": {
          "base_uri": "https://localhost:8080/"
        },
        "id": "Uy9c0IsdtKNw",
        "outputId": "f710989c-7143-40c0-ca0a-701cc4f0eafe"
      },
      "execution_count": 6,
      "outputs": [
        {
          "output_type": "stream",
          "name": "stdout",
          "text": [
            "\u001b[1m1/1\u001b[0m \u001b[32m━━━━━━━━━━━━━━━━━━━━\u001b[0m\u001b[37m\u001b[0m \u001b[1m0s\u001b[0m 59ms/step\n",
            "predicted:  [('n02112018', 'Pomeranian', np.float32(0.97851366)), ('n02112137', 'chow', np.float32(0.011448366)), ('n02112350', 'keeshond', np.float32(0.005469604))]\n"
          ]
        }
      ]
    },
    {
      "cell_type": "code",
      "source": [],
      "metadata": {
        "id": "YqqHSemqtZmn"
      },
      "execution_count": null,
      "outputs": []
    }
  ]
}
{
 "cells": [
  {
   "cell_type": "code",
   "execution_count": 14,
   "id": "fd7ab1f8",
   "metadata": {},
   "outputs": [],
   "source": [
    "from langchain_openai import ChatOpenAI\n",
    "from typing import TypedDict, Annotated\n",
    "from langgraph.graph import StateGraph, START, END\n",
    "from dotenv import load_dotenv\n",
    "from langgraph.checkpoint.memory import InMemorySaver"
   ]
  },
  {
   "cell_type": "code",
   "execution_count": 15,
   "id": "e708b49b",
   "metadata": {},
   "outputs": [],
   "source": [
    "load_dotenv()\n",
    "\n",
    "llm= ChatOpenAI()"
   ]
  },
  {
   "cell_type": "code",
   "execution_count": 16,
   "id": "4d507f03",
   "metadata": {},
   "outputs": [],
   "source": [
    "class JokeState(TypedDict):\n",
    "    topic: str\n",
    "    joke: str\n",
    "    explaination: str"
   ]
  },
  {
   "cell_type": "code",
   "execution_count": 17,
   "id": "55809e1f",
   "metadata": {},
   "outputs": [],
   "source": [
    "def generate_joke(state:JokeState):\n",
    "    prompt= f\"Wriite a funny joke on following topic: {state['topic']}\"\n",
    "\n",
    "    res= llm.invoke(prompt).content\n",
    "\n",
    "    return {'joke':res}"
   ]
  },
  {
   "cell_type": "code",
   "execution_count": 18,
   "id": "271e1ac6",
   "metadata": {},
   "outputs": [],
   "source": [
    "def explain_joke(state:JokeState):\n",
    "    prompt= f\"Explain the following joke in simple manner: {state['joke']}\"\n",
    "\n",
    "    res= llm.invoke(prompt).content\n",
    "\n",
    "    return {'explaination':res}"
   ]
  },
  {
   "cell_type": "code",
   "execution_count": 19,
   "id": "4638877d",
   "metadata": {},
   "outputs": [],
   "source": [
    "graph= StateGraph(JokeState)\n",
    "\n",
    "graph.add_node('generate_joke', generate_joke)\n",
    "graph.add_node('explain_joke', explain_joke)\n",
    "\n",
    "graph.add_edge(START, 'generate_joke')\n",
    "graph.add_edge('generate_joke', 'explain_joke')\n",
    "graph.add_edge('explain_joke', END)\n",
    "\n",
    "checkpointer= InMemorySaver()\n",
    "\n",
    "wf= graph.compile(checkpointer=checkpointer)"
   ]
  },
  {
   "cell_type": "code",
   "execution_count": 20,
   "id": "52e75b89",
   "metadata": {},
   "outputs": [
    {
     "data": {
      "text/plain": [
       "{'topic': 'pizza',\n",
       " 'joke': 'Why did the slice of pizza go to the party? Because it knew it would be a \"pizza\" cake!',\n",
       " 'explaination': 'This joke is a play on words. The phrase \"pizza cake\" sounds like \"piece of cake,\" which means something is easy or simple. In this joke, the slice of pizza went to the party because it knew it would be easy or simple for it to have fun and enjoy itself there.'}"
      ]
     },
     "execution_count": 20,
     "metadata": {},
     "output_type": "execute_result"
    }
   ],
   "source": [
    "thread_id=\"1\"\n",
    "config= {'configurable':{'thread_id': thread_id}}\n",
    "\n",
    "wf.invoke({'topic':'pizza'}, config=config)"
   ]
  },
  {
   "cell_type": "code",
   "execution_count": 21,
   "id": "bd046282",
   "metadata": {},
   "outputs": [
    {
     "data": {
      "text/plain": [
       "StateSnapshot(values={'topic': 'pizza', 'joke': 'Why did the slice of pizza go to the party? Because it knew it would be a \"pizza\" cake!', 'explaination': 'This joke is a play on words. The phrase \"pizza cake\" sounds like \"piece of cake,\" which means something is easy or simple. In this joke, the slice of pizza went to the party because it knew it would be easy or simple for it to have fun and enjoy itself there.'}, next=(), config={'configurable': {'thread_id': '1', 'checkpoint_ns': '', 'checkpoint_id': '1f071f5c-ebee-654a-8002-35cc9780ede0'}}, metadata={'source': 'loop', 'step': 2, 'parents': {}}, created_at='2025-08-05T12:14:59.802861+00:00', parent_config={'configurable': {'thread_id': '1', 'checkpoint_ns': '', 'checkpoint_id': '1f071f5c-df6b-6774-8001-5b62c1e0cdbe'}}, tasks=(), interrupts=())"
      ]
     },
     "execution_count": 21,
     "metadata": {},
     "output_type": "execute_result"
    }
   ],
   "source": [
    "wf.get_state(config=config)"
   ]
  },
  {
   "cell_type": "code",
   "execution_count": 22,
   "id": "8687ec79",
   "metadata": {},
   "outputs": [
    {
     "data": {
      "text/plain": [
       "[StateSnapshot(values={'topic': 'pizza', 'joke': 'Why did the slice of pizza go to the party? Because it knew it would be a \"pizza\" cake!', 'explaination': 'This joke is a play on words. The phrase \"pizza cake\" sounds like \"piece of cake,\" which means something is easy or simple. In this joke, the slice of pizza went to the party because it knew it would be easy or simple for it to have fun and enjoy itself there.'}, next=(), config={'configurable': {'thread_id': '1', 'checkpoint_ns': '', 'checkpoint_id': '1f071f5c-ebee-654a-8002-35cc9780ede0'}}, metadata={'source': 'loop', 'step': 2, 'parents': {}}, created_at='2025-08-05T12:14:59.802861+00:00', parent_config={'configurable': {'thread_id': '1', 'checkpoint_ns': '', 'checkpoint_id': '1f071f5c-df6b-6774-8001-5b62c1e0cdbe'}}, tasks=(), interrupts=()),\n",
       " StateSnapshot(values={'topic': 'pizza', 'joke': 'Why did the slice of pizza go to the party? Because it knew it would be a \"pizza\" cake!'}, next=('explain_joke',), config={'configurable': {'thread_id': '1', 'checkpoint_ns': '', 'checkpoint_id': '1f071f5c-df6b-6774-8001-5b62c1e0cdbe'}}, metadata={'source': 'loop', 'step': 1, 'parents': {}}, created_at='2025-08-05T12:14:58.490968+00:00', parent_config={'configurable': {'thread_id': '1', 'checkpoint_ns': '', 'checkpoint_id': '1f071f5c-d77b-6a04-8000-85fd98203b2b'}}, tasks=(PregelTask(id='7a2984a2-7d57-af8e-36d0-f1c7a28beebc', name='explain_joke', path=('__pregel_pull', 'explain_joke'), error=None, interrupts=(), state=None, result={'explaination': 'This joke is a play on words. The phrase \"pizza cake\" sounds like \"piece of cake,\" which means something is easy or simple. In this joke, the slice of pizza went to the party because it knew it would be easy or simple for it to have fun and enjoy itself there.'}),), interrupts=()),\n",
       " StateSnapshot(values={'topic': 'pizza'}, next=('generate_joke',), config={'configurable': {'thread_id': '1', 'checkpoint_ns': '', 'checkpoint_id': '1f071f5c-d77b-6a04-8000-85fd98203b2b'}}, metadata={'source': 'loop', 'step': 0, 'parents': {}}, created_at='2025-08-05T12:14:57.658726+00:00', parent_config={'configurable': {'thread_id': '1', 'checkpoint_ns': '', 'checkpoint_id': '1f071f5c-d77b-6a03-bfff-a01c8f76d2c5'}}, tasks=(PregelTask(id='29591618-dfb7-4961-e34e-de847e340264', name='generate_joke', path=('__pregel_pull', 'generate_joke'), error=None, interrupts=(), state=None, result={'joke': 'Why did the slice of pizza go to the party? Because it knew it would be a \"pizza\" cake!'}),), interrupts=()),\n",
       " StateSnapshot(values={}, next=('__start__',), config={'configurable': {'thread_id': '1', 'checkpoint_ns': '', 'checkpoint_id': '1f071f5c-d77b-6a03-bfff-a01c8f76d2c5'}}, metadata={'source': 'input', 'step': -1, 'parents': {}}, created_at='2025-08-05T12:14:57.658726+00:00', parent_config=None, tasks=(PregelTask(id='09ad4122-6b89-0702-b411-92745b13c5c7', name='__start__', path=('__pregel_pull', '__start__'), error=None, interrupts=(), state=None, result={'topic': 'pizza'}),), interrupts=())]"
      ]
     },
     "execution_count": 22,
     "metadata": {},
     "output_type": "execute_result"
    }
   ],
   "source": [
    "list(wf.get_state_history(config))"
   ]
  },
  {
   "cell_type": "markdown",
   "id": "f9d42be9",
   "metadata": {},
   "source": [
    "## Time Travel"
   ]
  },
  {
   "cell_type": "code",
   "execution_count": 23,
   "id": "508189b8",
   "metadata": {},
   "outputs": [
    {
     "data": {
      "text/plain": [
       "StateSnapshot(values={}, next=(), config={'configurable': {'thread_id': '1', 'checkpoint_id': '1f07161b-d422-60e0-8000-6b0ce95d0a6e'}}, metadata=None, created_at=None, parent_config=None, tasks=(), interrupts=())"
      ]
     },
     "execution_count": 23,
     "metadata": {},
     "output_type": "execute_result"
    }
   ],
   "source": [
    "wf.get_state({'configurable':{'thread_id':thread_id, 'checkpoint_id':'1f07161b-d422-60e0-8000-6b0ce95d0a6e'}})"
   ]
  },
  {
   "cell_type": "code",
   "execution_count": 24,
   "id": "91a2faae",
   "metadata": {},
   "outputs": [
    {
     "data": {
      "text/plain": [
       "{'configurable': {'thread_id': '1',\n",
       "  'checkpoint_ns': '',\n",
       "  'checkpoint_id': '1f071f5c-ecbe-66c0-8000-b93d3c80f213'}}"
      ]
     },
     "execution_count": 24,
     "metadata": {},
     "output_type": "execute_result"
    }
   ],
   "source": [
    "wf.update_state({'configurable':{'thread_id':thread_id, 'checkpoint_id':'1f07161b-d422-60e0-8000-6b0ce95d0a6e',\"checkpoint_ns\":''}},{'topic':'pencil'})"
   ]
  },
  {
   "cell_type": "code",
   "execution_count": 25,
   "id": "e868e2f7",
   "metadata": {},
   "outputs": [
    {
     "data": {
      "text/plain": [
       "[StateSnapshot(values={'topic': 'pencil'}, next=('generate_joke',), config={'configurable': {'thread_id': '1', 'checkpoint_ns': '', 'checkpoint_id': '1f071f5c-ecbe-66c0-8000-b93d3c80f213'}}, metadata={'source': 'update', 'step': 0, 'parents': {}}, created_at='2025-08-05T12:14:59.888095+00:00', parent_config={'configurable': {'thread_id': '1', 'checkpoint_ns': '', 'checkpoint_id': '1f07161b-d422-60e0-8000-6b0ce95d0a6e'}}, tasks=(PregelTask(id='a5722b16-bd55-1902-fa1d-c91d5192b020', name='generate_joke', path=('__pregel_pull', 'generate_joke'), error=None, interrupts=(), state=None, result=None),), interrupts=()),\n",
       " StateSnapshot(values={'topic': 'pizza', 'joke': 'Why did the slice of pizza go to the party? Because it knew it would be a \"pizza\" cake!', 'explaination': 'This joke is a play on words. The phrase \"pizza cake\" sounds like \"piece of cake,\" which means something is easy or simple. In this joke, the slice of pizza went to the party because it knew it would be easy or simple for it to have fun and enjoy itself there.'}, next=(), config={'configurable': {'thread_id': '1', 'checkpoint_ns': '', 'checkpoint_id': '1f071f5c-ebee-654a-8002-35cc9780ede0'}}, metadata={'source': 'loop', 'step': 2, 'parents': {}}, created_at='2025-08-05T12:14:59.802861+00:00', parent_config={'configurable': {'thread_id': '1', 'checkpoint_ns': '', 'checkpoint_id': '1f071f5c-df6b-6774-8001-5b62c1e0cdbe'}}, tasks=(), interrupts=()),\n",
       " StateSnapshot(values={'topic': 'pizza', 'joke': 'Why did the slice of pizza go to the party? Because it knew it would be a \"pizza\" cake!'}, next=('explain_joke',), config={'configurable': {'thread_id': '1', 'checkpoint_ns': '', 'checkpoint_id': '1f071f5c-df6b-6774-8001-5b62c1e0cdbe'}}, metadata={'source': 'loop', 'step': 1, 'parents': {}}, created_at='2025-08-05T12:14:58.490968+00:00', parent_config={'configurable': {'thread_id': '1', 'checkpoint_ns': '', 'checkpoint_id': '1f071f5c-d77b-6a04-8000-85fd98203b2b'}}, tasks=(PregelTask(id='7a2984a2-7d57-af8e-36d0-f1c7a28beebc', name='explain_joke', path=('__pregel_pull', 'explain_joke'), error=None, interrupts=(), state=None, result={'explaination': 'This joke is a play on words. The phrase \"pizza cake\" sounds like \"piece of cake,\" which means something is easy or simple. In this joke, the slice of pizza went to the party because it knew it would be easy or simple for it to have fun and enjoy itself there.'}),), interrupts=()),\n",
       " StateSnapshot(values={'topic': 'pizza'}, next=('generate_joke',), config={'configurable': {'thread_id': '1', 'checkpoint_ns': '', 'checkpoint_id': '1f071f5c-d77b-6a04-8000-85fd98203b2b'}}, metadata={'source': 'loop', 'step': 0, 'parents': {}}, created_at='2025-08-05T12:14:57.658726+00:00', parent_config={'configurable': {'thread_id': '1', 'checkpoint_ns': '', 'checkpoint_id': '1f071f5c-d77b-6a03-bfff-a01c8f76d2c5'}}, tasks=(PregelTask(id='29591618-dfb7-4961-e34e-de847e340264', name='generate_joke', path=('__pregel_pull', 'generate_joke'), error=None, interrupts=(), state=None, result={'joke': 'Why did the slice of pizza go to the party? Because it knew it would be a \"pizza\" cake!'}),), interrupts=()),\n",
       " StateSnapshot(values={}, next=('__start__',), config={'configurable': {'thread_id': '1', 'checkpoint_ns': '', 'checkpoint_id': '1f071f5c-d77b-6a03-bfff-a01c8f76d2c5'}}, metadata={'source': 'input', 'step': -1, 'parents': {}}, created_at='2025-08-05T12:14:57.658726+00:00', parent_config=None, tasks=(PregelTask(id='09ad4122-6b89-0702-b411-92745b13c5c7', name='__start__', path=('__pregel_pull', '__start__'), error=None, interrupts=(), state=None, result={'topic': 'pizza'}),), interrupts=())]"
      ]
     },
     "execution_count": 25,
     "metadata": {},
     "output_type": "execute_result"
    }
   ],
   "source": [
    "list(wf.get_state_history(config))"
   ]
  },
  {
   "cell_type": "code",
   "execution_count": 26,
   "id": "e036698a",
   "metadata": {},
   "outputs": [
    {
     "data": {
      "text/plain": [
       "[StateSnapshot(values={'topic': 'pencil'}, next=('generate_joke',), config={'configurable': {'thread_id': '1', 'checkpoint_ns': '', 'checkpoint_id': '1f071f5c-ecbe-66c0-8000-b93d3c80f213'}}, metadata={'source': 'update', 'step': 0, 'parents': {}}, created_at='2025-08-05T12:14:59.888095+00:00', parent_config={'configurable': {'thread_id': '1', 'checkpoint_ns': '', 'checkpoint_id': '1f07161b-d422-60e0-8000-6b0ce95d0a6e'}}, tasks=(PregelTask(id='a5722b16-bd55-1902-fa1d-c91d5192b020', name='generate_joke', path=('__pregel_pull', 'generate_joke'), error=None, interrupts=(), state=None, result=None),), interrupts=()),\n",
       " StateSnapshot(values={'topic': 'pizza', 'joke': 'Why did the slice of pizza go to the party? Because it knew it would be a \"pizza\" cake!', 'explaination': 'This joke is a play on words. The phrase \"pizza cake\" sounds like \"piece of cake,\" which means something is easy or simple. In this joke, the slice of pizza went to the party because it knew it would be easy or simple for it to have fun and enjoy itself there.'}, next=(), config={'configurable': {'thread_id': '1', 'checkpoint_ns': '', 'checkpoint_id': '1f071f5c-ebee-654a-8002-35cc9780ede0'}}, metadata={'source': 'loop', 'step': 2, 'parents': {}}, created_at='2025-08-05T12:14:59.802861+00:00', parent_config={'configurable': {'thread_id': '1', 'checkpoint_ns': '', 'checkpoint_id': '1f071f5c-df6b-6774-8001-5b62c1e0cdbe'}}, tasks=(), interrupts=()),\n",
       " StateSnapshot(values={'topic': 'pizza', 'joke': 'Why did the slice of pizza go to the party? Because it knew it would be a \"pizza\" cake!'}, next=('explain_joke',), config={'configurable': {'thread_id': '1', 'checkpoint_ns': '', 'checkpoint_id': '1f071f5c-df6b-6774-8001-5b62c1e0cdbe'}}, metadata={'source': 'loop', 'step': 1, 'parents': {}}, created_at='2025-08-05T12:14:58.490968+00:00', parent_config={'configurable': {'thread_id': '1', 'checkpoint_ns': '', 'checkpoint_id': '1f071f5c-d77b-6a04-8000-85fd98203b2b'}}, tasks=(PregelTask(id='7a2984a2-7d57-af8e-36d0-f1c7a28beebc', name='explain_joke', path=('__pregel_pull', 'explain_joke'), error=None, interrupts=(), state=None, result={'explaination': 'This joke is a play on words. The phrase \"pizza cake\" sounds like \"piece of cake,\" which means something is easy or simple. In this joke, the slice of pizza went to the party because it knew it would be easy or simple for it to have fun and enjoy itself there.'}),), interrupts=()),\n",
       " StateSnapshot(values={'topic': 'pizza'}, next=('generate_joke',), config={'configurable': {'thread_id': '1', 'checkpoint_ns': '', 'checkpoint_id': '1f071f5c-d77b-6a04-8000-85fd98203b2b'}}, metadata={'source': 'loop', 'step': 0, 'parents': {}}, created_at='2025-08-05T12:14:57.658726+00:00', parent_config={'configurable': {'thread_id': '1', 'checkpoint_ns': '', 'checkpoint_id': '1f071f5c-d77b-6a03-bfff-a01c8f76d2c5'}}, tasks=(PregelTask(id='29591618-dfb7-4961-e34e-de847e340264', name='generate_joke', path=('__pregel_pull', 'generate_joke'), error=None, interrupts=(), state=None, result={'joke': 'Why did the slice of pizza go to the party? Because it knew it would be a \"pizza\" cake!'}),), interrupts=()),\n",
       " StateSnapshot(values={}, next=('__start__',), config={'configurable': {'thread_id': '1', 'checkpoint_ns': '', 'checkpoint_id': '1f071f5c-d77b-6a03-bfff-a01c8f76d2c5'}}, metadata={'source': 'input', 'step': -1, 'parents': {}}, created_at='2025-08-05T12:14:57.658726+00:00', parent_config=None, tasks=(PregelTask(id='09ad4122-6b89-0702-b411-92745b13c5c7', name='__start__', path=('__pregel_pull', '__start__'), error=None, interrupts=(), state=None, result={'topic': 'pizza'}),), interrupts=())]"
      ]
     },
     "execution_count": 26,
     "metadata": {},
     "output_type": "execute_result"
    }
   ],
   "source": [
    "list(wf.get_state_history(config))"
   ]
  },
  {
   "cell_type": "code",
   "execution_count": null,
   "id": "d02ac9be",
   "metadata": {},
   "outputs": [],
   "source": []
  }
 ],
 "metadata": {
  "kernelspec": {
   "display_name": "venv",
   "language": "python",
   "name": "python3"
  },
  "language_info": {
   "codemirror_mode": {
    "name": "ipython",
    "version": 3
   },
   "file_extension": ".py",
   "mimetype": "text/x-python",
   "name": "python",
   "nbconvert_exporter": "python",
   "pygments_lexer": "ipython3",
   "version": "3.11.9"
  }
 },
 "nbformat": 4,
 "nbformat_minor": 5
}

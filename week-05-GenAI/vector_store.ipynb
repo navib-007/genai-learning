{
  "cells": [
    {
      "cell_type": "code",
      "execution_count": null,
      "metadata": {
        "colab": {
          "base_uri": "https://localhost:8080/"
        },
        "id": "u0QkCrPhG_fV",
        "outputId": "43b74321-dc30-4126-b53f-0d5e41fc2046"
      },
      "outputs": [],
      "source": [
        "!pip install langchain chromadb tiktoken openai pypdf langchain-community langchain-openai"
      ]
    },
    {
      "cell_type": "code",
      "execution_count": 2,
      "metadata": {
        "id": "223hO1EZHOk5"
      },
      "outputs": [],
      "source": [
        "from langchain_openai import OpenAIEmbeddings\n",
        "from langchain.vectorstores import Chroma"
      ]
    },
    {
      "cell_type": "code",
      "execution_count": null,
      "metadata": {
        "id": "C7OiB6JIHhLd"
      },
      "outputs": [],
      "source": [
        "from langchain.schema import Document\n",
        "docs1= Document()"
      ]
    },
    {
      "cell_type": "code",
      "execution_count": 3,
      "metadata": {
        "colab": {
          "base_uri": "https://localhost:8080/"
        },
        "id": "19fd0686",
        "outputId": "27103f17-f545-4b33-850d-38121f59349a"
      },
      "outputs": [
        {
          "name": "stdout",
          "output_type": "stream",
          "text": [
            "Page Content: Chennai Super Kings (CSK) is a franchise cricket team based in Chennai, Tamil Nadu. A famous player is MS Dhoni, known for his captaincy and finishing skills.\n",
            "Metadata: {'team': 'CSK'}\n",
            "--------------------\n",
            "Page Content: Mumbai Indians (MI) is a franchise cricket team based in Mumbai, Maharashtra. A famous player is Rohit Sharma, known for his opening batting and captaincy.\n",
            "Metadata: {'team': 'MI'}\n",
            "--------------------\n",
            "Page Content: Royal Challengers Bangalore (RCB) is a franchise cricket team based in Bangalore, Karnataka. A famous player is Virat Kohli, known for his consistent batting and leadership.\n",
            "Metadata: {'team': 'RCB'}\n",
            "--------------------\n",
            "Page Content: Kolkata Knight Riders (KKR) is a franchise cricket team based in Kolkata, West Bengal. A famous player is Sunil Narine, known for his mystery spin bowling and explosive batting.\n",
            "Metadata: {'team': 'KKR'}\n",
            "--------------------\n",
            "Page Content: Delhi Capitals (DC) is a franchise cricket team based in Delhi. A famous player is Rishabh Pant, known for his aggressive wicket-keeping and batting.\n",
            "Metadata: {'team': 'DC'}\n",
            "--------------------\n"
          ]
        }
      ],
      "source": [
        "from langchain.schema import Document\n",
        "\n",
        "docs = [\n",
        "    Document(page_content=\"Chennai Super Kings (CSK) is a franchise cricket team based in Chennai, Tamil Nadu. A famous player is MS Dhoni, known for his captaincy and finishing skills.\", metadata={\"team\": \"CSK\"}),\n",
        "    Document(page_content=\"Mumbai Indians (MI) is a franchise cricket team based in Mumbai, Maharashtra. A famous player is Rohit Sharma, known for his opening batting and captaincy.\", metadata={\"team\": \"MI\"}),\n",
        "    Document(page_content=\"Royal Challengers Bangalore (RCB) is a franchise cricket team based in Bangalore, Karnataka. A famous player is Virat Kohli, known for his consistent batting and leadership.\", metadata={\"team\": \"RCB\"}),\n",
        "    Document(page_content=\"Kolkata Knight Riders (KKR) is a franchise cricket team based in Kolkata, West Bengal. A famous player is Sunil Narine, known for his mystery spin bowling and explosive batting.\", metadata={\"team\": \"KKR\"}),\n",
        "    Document(page_content=\"Delhi Capitals (DC) is a franchise cricket team based in Delhi. A famous player is Rishabh Pant, known for his aggressive wicket-keeping and batting.\", metadata={\"team\": \"DC\"})\n",
        "]\n",
        "\n",
        "for doc in docs:\n",
        "    print(f\"Page Content: {doc.page_content}\")\n",
        "    print(f\"Metadata: {doc.metadata}\")\n",
        "    print(\"-\" * 20)"
      ]
    },
    {
      "cell_type": "code",
      "execution_count": 5,
      "metadata": {
        "id": "cv_yJIUyKHYz"
      },
      "outputs": [],
      "source": [
        "from google.colab import userdata\n",
        "import os\n",
        "os.environ['OPENAI_API_KEY'] = userdata.get('OPENAI_API_KEY')"
      ]
    },
    {
      "cell_type": "code",
      "execution_count": 6,
      "metadata": {
        "colab": {
          "base_uri": "https://localhost:8080/"
        },
        "id": "8hwTlIH9JsJd",
        "outputId": "2669fbc6-9ada-4959-bcb6-722ec154c448"
      },
      "outputs": [
        {
          "name": "stderr",
          "output_type": "stream",
          "text": [
            "/tmp/ipython-input-6-305335288.py:1: LangChainDeprecationWarning: The class `Chroma` was deprecated in LangChain 0.2.9 and will be removed in 1.0. An updated version of the class exists in the :class:`~langchain-chroma package and should be used instead. To use it run `pip install -U :class:`~langchain-chroma` and import as `from :class:`~langchain_chroma import Chroma``.\n",
            "  vector_store=Chroma(\n"
          ]
        }
      ],
      "source": [
        "vector_store=Chroma(\n",
        "    embedding_function=OpenAIEmbeddings(),\n",
        "    persist_directory=\"chroma_db\",\n",
        "    collection_name=\"sample\"\n",
        ")"
      ]
    },
    {
      "cell_type": "code",
      "execution_count": 7,
      "metadata": {
        "colab": {
          "base_uri": "https://localhost:8080/"
        },
        "id": "_02hkkmDJsGE",
        "outputId": "b4e7c688-ac88-4b20-cdda-2147ecd29525"
      },
      "outputs": [
        {
          "data": {
            "text/plain": [
              "['267c2b0a-5646-465b-8a72-e2e1175a4f1b',\n",
              " 'a5a162c3-260d-4bc9-a443-ff7b72e87c84',\n",
              " '1da1f684-5f41-422f-a0ee-3af523e49a7e',\n",
              " 'c17ebccf-d663-44ff-bcb7-6d82fa5f95f8',\n",
              " 'c4ca6fa2-082b-4ad2-9851-dbfe372364cf']"
            ]
          },
          "execution_count": 7,
          "metadata": {},
          "output_type": "execute_result"
        }
      ],
      "source": [
        "vector_store.add_documents(docs)"
      ]
    },
    {
      "cell_type": "code",
      "execution_count": 9,
      "metadata": {
        "colab": {
          "base_uri": "https://localhost:8080/"
        },
        "id": "V4Q75mgKJsDV",
        "outputId": "32ba1b91-7dfc-441f-e73e-b0e8b2de5ed1"
      },
      "outputs": [
        {
          "data": {
            "text/plain": [
              "{'ids': ['267c2b0a-5646-465b-8a72-e2e1175a4f1b',\n",
              "  'a5a162c3-260d-4bc9-a443-ff7b72e87c84',\n",
              "  '1da1f684-5f41-422f-a0ee-3af523e49a7e',\n",
              "  'c17ebccf-d663-44ff-bcb7-6d82fa5f95f8',\n",
              "  'c4ca6fa2-082b-4ad2-9851-dbfe372364cf'],\n",
              " 'embeddings': array([[ 0.01012672, -0.00996598,  0.00013261, ..., -0.0164085 ,\n",
              "         -0.01179844,  0.01078898],\n",
              "        [-0.01656426, -0.02169791, -0.00774474, ..., -0.01382041,\n",
              "         -0.00088195, -0.02829832],\n",
              "        [ 0.00022079, -0.0326703 , -0.00460594, ..., -0.00125463,\n",
              "         -0.00888957,  0.01268649],\n",
              "        [ 0.01261501, -0.00504269,  0.01078733, ..., -0.00751603,\n",
              "          0.00736372,  0.00374477],\n",
              "        [-0.00048181, -0.00475608, -0.0148954 , ..., -0.00643507,\n",
              "         -0.01190326, -0.0058569 ]]),\n",
              " 'documents': ['Chennai Super Kings (CSK) is a franchise cricket team based in Chennai, Tamil Nadu. A famous player is MS Dhoni, known for his captaincy and finishing skills.',\n",
              "  'Mumbai Indians (MI) is a franchise cricket team based in Mumbai, Maharashtra. A famous player is Rohit Sharma, known for his opening batting and captaincy.',\n",
              "  'Royal Challengers Bangalore (RCB) is a franchise cricket team based in Bangalore, Karnataka. A famous player is Virat Kohli, known for his consistent batting and leadership.',\n",
              "  'Kolkata Knight Riders (KKR) is a franchise cricket team based in Kolkata, West Bengal. A famous player is Sunil Narine, known for his mystery spin bowling and explosive batting.',\n",
              "  'Delhi Capitals (DC) is a franchise cricket team based in Delhi. A famous player is Rishabh Pant, known for his aggressive wicket-keeping and batting.'],\n",
              " 'uris': None,\n",
              " 'included': ['embeddings', 'documents', 'metadatas'],\n",
              " 'data': None,\n",
              " 'metadatas': [{'team': 'CSK'},\n",
              "  {'team': 'MI'},\n",
              "  {'team': 'RCB'},\n",
              "  {'team': 'KKR'},\n",
              "  {'team': 'DC'}]}"
            ]
          },
          "execution_count": 9,
          "metadata": {},
          "output_type": "execute_result"
        }
      ],
      "source": [
        "vector_store.get(include=['embeddings', 'documents','metadatas'])"
      ]
    },
    {
      "cell_type": "code",
      "execution_count": 10,
      "metadata": {
        "colab": {
          "base_uri": "https://localhost:8080/"
        },
        "id": "LK66HBQ2JsAv",
        "outputId": "6c1068a0-6428-41b5-8d34-f26ff0e4c14d"
      },
      "outputs": [
        {
          "data": {
            "text/plain": [
              "[Document(metadata={'team': 'KKR'}, page_content='Kolkata Knight Riders (KKR) is a franchise cricket team based in Kolkata, West Bengal. A famous player is Sunil Narine, known for his mystery spin bowling and explosive batting.'),\n",
              " Document(metadata={'team': 'MI'}, page_content='Mumbai Indians (MI) is a franchise cricket team based in Mumbai, Maharashtra. A famous player is Rohit Sharma, known for his opening batting and captaincy.')]"
            ]
          },
          "execution_count": 10,
          "metadata": {},
          "output_type": "execute_result"
        }
      ],
      "source": [
        "vector_store.similarity_search(query=\"who is best bowler ?\", k=2)"
      ]
    },
    {
      "cell_type": "code",
      "execution_count": 14,
      "metadata": {
        "colab": {
          "base_uri": "https://localhost:8080/"
        },
        "id": "w7xuFkVRLGSz",
        "outputId": "12f9dcf8-3abe-4da6-f899-5d5d55fefb21"
      },
      "outputs": [
        {
          "data": {
            "text/plain": [
              "[(Document(metadata={'team': 'CSK'}, page_content='Chennai Super Kings (CSK) is a franchise cricket team based in Chennai, Tamil Nadu. A famous player is MS Dhoni, known for his captaincy and finishing skills.'),\n",
              "  0.6655855774879456)]"
            ]
          },
          "execution_count": 14,
          "metadata": {},
          "output_type": "execute_result"
        }
      ],
      "source": [
        "# Meta Data Filtering\n",
        "vector_store.similarity_search_with_score(query=\"\", filter= {\"team\":\"CSK\"})"
      ]
    },
    {
      "cell_type": "code",
      "execution_count": 18,
      "metadata": {
        "id": "GnylO6UALPyv"
      },
      "outputs": [],
      "source": [
        "# Update Documents\n",
        "update_doc1 = Document(\n",
        "    page_content=\"Mumbai Indians had best bowler, all rounder and batsman in the world.\",\n",
        "    metadata={\"team\": \"MI\"})"
      ]
    },
    {
      "cell_type": "code",
      "execution_count": 21,
      "metadata": {
        "id": "nR2XJ7eUMLZZ"
      },
      "outputs": [],
      "source": [
        "vector_store.update_document(document_id='a5a162c3-260d-4bc9-a443-ff7b72e87c84', document=update_doc1)"
      ]
    },
    {
      "cell_type": "code",
      "execution_count": 22,
      "metadata": {
        "colab": {
          "base_uri": "https://localhost:8080/"
        },
        "id": "rJfd1IHgM8ue",
        "outputId": "33a5982f-59bd-475b-ddf2-f223dc1883b6"
      },
      "outputs": [
        {
          "data": {
            "text/plain": [
              "{'ids': ['267c2b0a-5646-465b-8a72-e2e1175a4f1b',\n",
              "  'a5a162c3-260d-4bc9-a443-ff7b72e87c84',\n",
              "  '1da1f684-5f41-422f-a0ee-3af523e49a7e',\n",
              "  'c17ebccf-d663-44ff-bcb7-6d82fa5f95f8',\n",
              "  'c4ca6fa2-082b-4ad2-9851-dbfe372364cf'],\n",
              " 'embeddings': array([[ 0.01012672, -0.00996598,  0.00013261, ..., -0.0164085 ,\n",
              "         -0.01179844,  0.01078898],\n",
              "        [-0.01337756,  0.01336463,  0.03277825, ..., -0.03182178,\n",
              "          0.00206318, -0.01386871],\n",
              "        [ 0.00022079, -0.0326703 , -0.00460594, ..., -0.00125463,\n",
              "         -0.00888957,  0.01268649],\n",
              "        [ 0.01261501, -0.00504269,  0.01078733, ..., -0.00751603,\n",
              "          0.00736372,  0.00374477],\n",
              "        [-0.00048181, -0.00475608, -0.0148954 , ..., -0.00643507,\n",
              "         -0.01190326, -0.0058569 ]]),\n",
              " 'documents': ['Chennai Super Kings (CSK) is a franchise cricket team based in Chennai, Tamil Nadu. A famous player is MS Dhoni, known for his captaincy and finishing skills.',\n",
              "  'Mumbai Indians had best bowler, all rounder and batsman in the world.',\n",
              "  'Royal Challengers Bangalore (RCB) is a franchise cricket team based in Bangalore, Karnataka. A famous player is Virat Kohli, known for his consistent batting and leadership.',\n",
              "  'Kolkata Knight Riders (KKR) is a franchise cricket team based in Kolkata, West Bengal. A famous player is Sunil Narine, known for his mystery spin bowling and explosive batting.',\n",
              "  'Delhi Capitals (DC) is a franchise cricket team based in Delhi. A famous player is Rishabh Pant, known for his aggressive wicket-keeping and batting.'],\n",
              " 'uris': None,\n",
              " 'included': ['embeddings', 'documents', 'metadatas'],\n",
              " 'data': None,\n",
              " 'metadatas': [{'team': 'CSK'},\n",
              "  {'team': 'MI'},\n",
              "  {'team': 'RCB'},\n",
              "  {'team': 'KKR'},\n",
              "  {'team': 'DC'}]}"
            ]
          },
          "execution_count": 22,
          "metadata": {},
          "output_type": "execute_result"
        }
      ],
      "source": [
        "vector_store.get(include=['embeddings', 'documents','metadatas'])"
      ]
    },
    {
      "cell_type": "code",
      "execution_count": 25,
      "metadata": {
        "id": "PPWZXEdwNJEd"
      },
      "outputs": [],
      "source": [
        "vector_store.delete(ids=['a5a162c3-260d-4bc9-a443-ff7b72e87c84'])"
      ]
    },
    {
      "cell_type": "code",
      "execution_count": 26,
      "metadata": {
        "colab": {
          "base_uri": "https://localhost:8080/"
        },
        "id": "HXyfSC8ZNSWh",
        "outputId": "e96771ee-f458-4e74-d55f-58eda45609f0"
      },
      "outputs": [
        {
          "data": {
            "text/plain": [
              "{'ids': ['267c2b0a-5646-465b-8a72-e2e1175a4f1b',\n",
              "  '1da1f684-5f41-422f-a0ee-3af523e49a7e',\n",
              "  'c17ebccf-d663-44ff-bcb7-6d82fa5f95f8',\n",
              "  'c4ca6fa2-082b-4ad2-9851-dbfe372364cf'],\n",
              " 'embeddings': array([[ 0.01012672, -0.00996598,  0.00013261, ..., -0.0164085 ,\n",
              "         -0.01179844,  0.01078898],\n",
              "        [ 0.00022079, -0.0326703 , -0.00460594, ..., -0.00125463,\n",
              "         -0.00888957,  0.01268649],\n",
              "        [ 0.01261501, -0.00504269,  0.01078733, ..., -0.00751603,\n",
              "          0.00736372,  0.00374477],\n",
              "        [-0.00048181, -0.00475608, -0.0148954 , ..., -0.00643507,\n",
              "         -0.01190326, -0.0058569 ]]),\n",
              " 'documents': ['Chennai Super Kings (CSK) is a franchise cricket team based in Chennai, Tamil Nadu. A famous player is MS Dhoni, known for his captaincy and finishing skills.',\n",
              "  'Royal Challengers Bangalore (RCB) is a franchise cricket team based in Bangalore, Karnataka. A famous player is Virat Kohli, known for his consistent batting and leadership.',\n",
              "  'Kolkata Knight Riders (KKR) is a franchise cricket team based in Kolkata, West Bengal. A famous player is Sunil Narine, known for his mystery spin bowling and explosive batting.',\n",
              "  'Delhi Capitals (DC) is a franchise cricket team based in Delhi. A famous player is Rishabh Pant, known for his aggressive wicket-keeping and batting.'],\n",
              " 'uris': None,\n",
              " 'included': ['embeddings', 'documents', 'metadatas'],\n",
              " 'data': None,\n",
              " 'metadatas': [{'team': 'CSK'},\n",
              "  {'team': 'RCB'},\n",
              "  {'team': 'KKR'},\n",
              "  {'team': 'DC'}]}"
            ]
          },
          "execution_count": 26,
          "metadata": {},
          "output_type": "execute_result"
        }
      ],
      "source": [
        "vector_store.get(include=['embeddings','documents','metadatas'])"
      ]
    },
    {
      "cell_type": "code",
      "execution_count": null,
      "metadata": {
        "id": "EQrAYfwANh-G"
      },
      "outputs": [],
      "source": []
    }
  ],
  "metadata": {
    "colab": {
      "provenance": []
    },
    "kernelspec": {
      "display_name": "Python 3",
      "name": "python3"
    },
    "language_info": {
      "name": "python"
    }
  },
  "nbformat": 4,
  "nbformat_minor": 0
}
